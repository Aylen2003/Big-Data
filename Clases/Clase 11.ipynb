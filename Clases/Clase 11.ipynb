{
 "cells": [
  {
   "cell_type": "markdown",
   "id": "c9ef13a3-a315-4e28-95a3-7adfda468664",
   "metadata": {},
   "source": [
    "## Introducción\r\n",
    "\r\n",
    "Frecuentemente, los datos estarán dispersos en varios archivos o bases de datos o estar organizados de forma que no sea fácil de analizar. Por este motivo, `Pandas` incorpora métodos que faciliten esta tarea.\r\n",
    "\r\n",
    "En esta clase vamos a ver las herramientas para ayudar a combinar, unir y reorganizar los datos.\r\n",
    "\r\n",
    "Antes, es necesario repasar el concepto de indexación múltiple e indexación jerárquica."
   ]
  },
  {
   "cell_type": "markdown",
   "id": "17d8c471-c2fe-45eb-86d0-32c6ffc06e67",
   "metadata": {},
   "source": [
    "### Indexing jerárquico\r\n",
    "\r\n",
    "La indexación jerárquica es una característica importante de `Pandas` que permite tener múltiples (dos o más) niveles de índice en un eje. De forma algo abstracta, proporciona una forma de trabajar con datos de dimensiones superiores en una forma de dimensiones inferiores. \r\n",
    "\r\n",
    "Comencemos con un ejemplo simple: crear una serie con una lista de listas como `index`"
   ]
  },
  {
   "cell_type": "code",
   "execution_count": 2,
   "id": "4ef9e218-7973-4fb2-a00b-dfb501404b44",
   "metadata": {},
   "outputs": [],
   "source": [
    "import numpy as np\n",
    "import pandas as pd"
   ]
  },
  {
   "cell_type": "code",
   "execution_count": 3,
   "id": "c64bc53c-b501-4ba5-9a19-6342e370c12b",
   "metadata": {},
   "outputs": [
    {
     "data": {
      "text/plain": [
       "a  1    0.683364\n",
       "   2    0.928215\n",
       "   3    0.586794\n",
       "b  1   -0.107546\n",
       "   3   -2.150267\n",
       "c  1    0.177161\n",
       "   2    0.077045\n",
       "d  2   -1.281147\n",
       "   3   -0.283505\n",
       "dtype: float64"
      ]
     },
     "metadata": {},
     "output_type": "display_data"
    }
   ],
   "source": [
    "# Armamos una serie con doble indice. Es decir dos coordenadas por cada valor. \n",
    "series1 = pd.Series(np.random.randn(9),\n",
    "                   index=[['a','a','a','b','b','c','c','d','d'],[1,2,3,1,3,1,2,2,3]])\n",
    "\n",
    "display(series1)"
   ]
  },
  {
   "cell_type": "markdown",
   "id": "c18bc5aa-fa63-4a02-bb3a-f91eeedabe44",
   "metadata": {},
   "source": [
    "Lo que estás viendo es una vista bonita de una serie con a como su índice. Los \"huecos\" en la pantalla del índice significan \"use la etiqueta directamente encima\":`MultiIndex`"
   ]
  },
  {
   "cell_type": "code",
   "execution_count": 4,
   "id": "e8d693b5-34e6-46d2-b77d-8779f9b9ae15",
   "metadata": {},
   "outputs": [
    {
     "data": {
      "text/plain": [
       "MultiIndex([('a', 1),\n",
       "            ('a', 2),\n",
       "            ('a', 3),\n",
       "            ('b', 1),\n",
       "            ('b', 3),\n",
       "            ('c', 1),\n",
       "            ('c', 2),\n",
       "            ('d', 2),\n",
       "            ('d', 3)],\n",
       "           )"
      ]
     },
     "execution_count": 4,
     "metadata": {},
     "output_type": "execute_result"
    }
   ],
   "source": [
    "# si accedemos al atributo index de esta serie vemos que es Multiindex y los elementos son Tuplas y podemos tener índices con la cantidad que \n",
    "# necesitemos de elementos.\n",
    "series1.index"
   ]
  },
  {
   "cell_type": "code",
   "execution_count": 16,
   "id": "4a014431-737f-4328-8d6b-020cc4578829",
   "metadata": {},
   "outputs": [
    {
     "data": {
      "text/plain": [
       "0.4286073872552598"
      ]
     },
     "execution_count": 16,
     "metadata": {},
     "output_type": "execute_result"
    }
   ],
   "source": [
    "# Vemos como acceder a un elemento\n",
    "series1.loc[('a',2)]"
   ]
  },
  {
   "cell_type": "markdown",
   "id": "9c8b7c8b-e494-4923-8a86-f977e0a1e4c1",
   "metadata": {},
   "source": [
    "Con un objeto indexado jerárquicamente, es posible la llamada indexación parcial, lo que le permite seleccionar de forma concisa subconjuntos de los datos:"
   ]
  },
  {
   "cell_type": "code",
   "execution_count": 18,
   "id": "9a908fad-c917-4046-955e-e1a685f42a77",
   "metadata": {},
   "outputs": [
    {
     "data": {
      "text/plain": [
       "1   -1.966401\n",
       "3    2.023618\n",
       "dtype: float64"
      ]
     },
     "execution_count": 18,
     "metadata": {},
     "output_type": "execute_result"
    }
   ],
   "source": [
    "# Por ejemplo, sabemos que hay mas de un elemento para el índice b\n",
    "\n",
    "series1['b']\n"
   ]
  },
  {
   "cell_type": "code",
   "execution_count": 19,
   "id": "d9a2f095-a585-43eb-a51d-62c31ecfd8ae",
   "metadata": {},
   "outputs": [
    {
     "data": {
      "text/plain": [
       "b  1   -1.966401\n",
       "   3    2.023618\n",
       "c  1    0.561608\n",
       "   2    0.080730\n",
       "dtype: float64"
      ]
     },
     "execution_count": 19,
     "metadata": {},
     "output_type": "execute_result"
    }
   ],
   "source": [
    "# Podemos hacer indexación por slicing\n",
    "series1['b':'c']"
   ]
  },
  {
   "cell_type": "markdown",
   "id": "d89b7eec-c49e-498c-9f57-d8d50864d818",
   "metadata": {},
   "source": [
    "La selección es posible incluso desde un nivel \"interno\". Aquí selecciono todos los valores que tienen el valor del segundo nivel de índice: `2`"
   ]
  },
  {
   "cell_type": "code",
   "execution_count": 20,
   "id": "11103a95-2c06-4540-9e9b-daf544ddcedd",
   "metadata": {},
   "outputs": [
    {
     "data": {
      "text/plain": [
       "a    0.428607\n",
       "c    0.080730\n",
       "d   -1.631250\n",
       "dtype: float64"
      ]
     },
     "execution_count": 20,
     "metadata": {},
     "output_type": "execute_result"
    }
   ],
   "source": [
    "# Podemos traer todo el primer índice y un valor particular del segundo\n",
    "series1.loc[:,2]"
   ]
  },
  {
   "cell_type": "code",
   "execution_count": 7,
   "id": "6cb93750-90e0-4967-9ace-4eee98304c11",
   "metadata": {},
   "outputs": [
    {
     "data": {
      "text/plain": [
       "a  1    0.683364\n",
       "   3    0.586794\n",
       "b  1   -0.107546\n",
       "   3   -2.150267\n",
       "dtype: float64"
      ]
     },
     "execution_count": 7,
     "metadata": {},
     "output_type": "execute_result"
    }
   ],
   "source": [
    "# Podemos último si queremos acceder solo a algunos elementos pero utilizando sus coordenadas:\n",
    "series1.loc[['a','b'],[1,3]]"
   ]
  },
  {
   "cell_type": "markdown",
   "id": "ba7862bb-805d-4b7f-b81a-0f1490b97e6f",
   "metadata": {},
   "source": [
    "***Método unstack***"
   ]
  },
  {
   "cell_type": "markdown",
   "id": "f7e7e8b2-e184-4974-b71c-3aba7f569d17",
   "metadata": {},
   "source": [
    "La indexación jerárquica desempeña un papel importante en la remodelación de los datos y en las operaciones basadas en grupos, como la formación de una tabla dinámica. Por ejemplo, puede reorganizar estos datos en un DataFrame utilizando su método: `unstack`"
   ]
  },
  {
   "cell_type": "code",
   "execution_count": 22,
   "id": "3b85cede-365e-4f43-af6f-15f37a6a2cf8",
   "metadata": {},
   "outputs": [
    {
     "data": {
      "text/plain": [
       "a  1    1.725775\n",
       "   2    0.428607\n",
       "   3   -2.239050\n",
       "b  1   -1.966401\n",
       "   3    2.023618\n",
       "c  1    0.561608\n",
       "   2    0.080730\n",
       "d  2   -1.631250\n",
       "   3    0.361573\n",
       "dtype: float64"
      ]
     },
     "execution_count": 22,
     "metadata": {},
     "output_type": "execute_result"
    }
   ],
   "source": [
    "# Recordemos nuestra serie.\n",
    "series1"
   ]
  },
  {
   "cell_type": "code",
   "execution_count": 23,
   "id": "ff9d7433-f6f8-4a7b-984a-fc551673a2b6",
   "metadata": {},
   "outputs": [
    {
     "data": {
      "text/html": [
       "<div>\n",
       "<style scoped>\n",
       "    .dataframe tbody tr th:only-of-type {\n",
       "        vertical-align: middle;\n",
       "    }\n",
       "\n",
       "    .dataframe tbody tr th {\n",
       "        vertical-align: top;\n",
       "    }\n",
       "\n",
       "    .dataframe thead th {\n",
       "        text-align: right;\n",
       "    }\n",
       "</style>\n",
       "<table border=\"1\" class=\"dataframe\">\n",
       "  <thead>\n",
       "    <tr style=\"text-align: right;\">\n",
       "      <th></th>\n",
       "      <th>1</th>\n",
       "      <th>2</th>\n",
       "      <th>3</th>\n",
       "    </tr>\n",
       "  </thead>\n",
       "  <tbody>\n",
       "    <tr>\n",
       "      <th>a</th>\n",
       "      <td>1.725775</td>\n",
       "      <td>0.428607</td>\n",
       "      <td>-2.239050</td>\n",
       "    </tr>\n",
       "    <tr>\n",
       "      <th>b</th>\n",
       "      <td>-1.966401</td>\n",
       "      <td>NaN</td>\n",
       "      <td>2.023618</td>\n",
       "    </tr>\n",
       "    <tr>\n",
       "      <th>c</th>\n",
       "      <td>0.561608</td>\n",
       "      <td>0.080730</td>\n",
       "      <td>NaN</td>\n",
       "    </tr>\n",
       "    <tr>\n",
       "      <th>d</th>\n",
       "      <td>NaN</td>\n",
       "      <td>-1.631250</td>\n",
       "      <td>0.361573</td>\n",
       "    </tr>\n",
       "  </tbody>\n",
       "</table>\n",
       "</div>"
      ],
      "text/plain": [
       "          1         2         3\n",
       "a  1.725775  0.428607 -2.239050\n",
       "b -1.966401       NaN  2.023618\n",
       "c  0.561608  0.080730       NaN\n",
       "d       NaN -1.631250  0.361573"
      ]
     },
     "execution_count": 23,
     "metadata": {},
     "output_type": "execute_result"
    }
   ],
   "source": [
    "# Con este método podemos tomar la serie del indice que está mas adentro y convertirlar en columna. \n",
    "# Es una forma de pivotear sobre la serie. Notar que completa las posiciones donde no hay nada con nulos.\n",
    "series1.unstack()"
   ]
  },
  {
   "cell_type": "markdown",
   "id": "68323158-c305-44cf-af5b-1a12444055e6",
   "metadata": {},
   "source": [
    "La operación inversa de es : `unstack stack`"
   ]
  },
  {
   "cell_type": "code",
   "execution_count": 8,
   "id": "0b657470-ca95-4518-80aa-b4afbd0e9553",
   "metadata": {},
   "outputs": [
    {
     "data": {
      "text/plain": [
       "a  1    0.683364\n",
       "   2    0.928215\n",
       "   3    0.586794\n",
       "b  1   -0.107546\n",
       "   3   -2.150267\n",
       "c  1    0.177161\n",
       "   2    0.077045\n",
       "d  2   -1.281147\n",
       "   3   -0.283505\n",
       "dtype: float64"
      ]
     },
     "execution_count": 8,
     "metadata": {},
     "output_type": "execute_result"
    }
   ],
   "source": [
    "# El método stack hace la operatoria inversa, si concatenamos ambas para trabajar sobre la serie pivoteada, volvemos\n",
    "# al formato original.\n",
    "series1.unstack().stack()"
   ]
  },
  {
   "cell_type": "markdown",
   "id": "696d78b1-7b23-4d5b-a68c-d5265e025f6a",
   "metadata": {},
   "source": [
    "Con un `DataFrame`, cualquiera de los ejes puede tener un índice jerárquico:"
   ]
  },
  {
   "cell_type": "code",
   "execution_count": 9,
   "id": "5ae05a22-03cc-49e4-9f2e-683be42fae99",
   "metadata": {},
   "outputs": [
    {
     "data": {
      "text/html": [
       "<div>\n",
       "<style scoped>\n",
       "    .dataframe tbody tr th:only-of-type {\n",
       "        vertical-align: middle;\n",
       "    }\n",
       "\n",
       "    .dataframe tbody tr th {\n",
       "        vertical-align: top;\n",
       "    }\n",
       "\n",
       "    .dataframe thead tr th {\n",
       "        text-align: left;\n",
       "    }\n",
       "</style>\n",
       "<table border=\"1\" class=\"dataframe\">\n",
       "  <thead>\n",
       "    <tr>\n",
       "      <th></th>\n",
       "      <th></th>\n",
       "      <th colspan=\"2\" halign=\"left\">Ohio</th>\n",
       "      <th>Colorado</th>\n",
       "    </tr>\n",
       "    <tr>\n",
       "      <th></th>\n",
       "      <th></th>\n",
       "      <th>Green</th>\n",
       "      <th>Red</th>\n",
       "      <th>Green</th>\n",
       "    </tr>\n",
       "  </thead>\n",
       "  <tbody>\n",
       "    <tr>\n",
       "      <th rowspan=\"2\" valign=\"top\">a</th>\n",
       "      <th>1</th>\n",
       "      <td>0</td>\n",
       "      <td>1</td>\n",
       "      <td>2</td>\n",
       "    </tr>\n",
       "    <tr>\n",
       "      <th>2</th>\n",
       "      <td>3</td>\n",
       "      <td>4</td>\n",
       "      <td>5</td>\n",
       "    </tr>\n",
       "    <tr>\n",
       "      <th rowspan=\"2\" valign=\"top\">b</th>\n",
       "      <th>1</th>\n",
       "      <td>6</td>\n",
       "      <td>7</td>\n",
       "      <td>8</td>\n",
       "    </tr>\n",
       "    <tr>\n",
       "      <th>2</th>\n",
       "      <td>9</td>\n",
       "      <td>10</td>\n",
       "      <td>11</td>\n",
       "    </tr>\n",
       "  </tbody>\n",
       "</table>\n",
       "</div>"
      ],
      "text/plain": [
       "     Ohio     Colorado\n",
       "    Green Red    Green\n",
       "a 1     0   1        2\n",
       "  2     3   4        5\n",
       "b 1     6   7        8\n",
       "  2     9  10       11"
      ]
     },
     "metadata": {},
     "output_type": "display_data"
    }
   ],
   "source": [
    "# En este caso podemos tener un multi índex o pindice jerárquico tanto en filas como en columnas.\n",
    "df1 = pd.DataFrame(np.arange(12).reshape((4,3)),\n",
    "                   index=[['a','a','b','b'],[1,2,1,2]],\n",
    "                   columns=[['Ohio','Ohio','Colorado'],['Green','Red','Green']])\n",
    "\n",
    "display(df1)"
   ]
  },
  {
   "cell_type": "markdown",
   "id": "65f94a48-c286-4fc6-be02-51fbf1caaed4",
   "metadata": {},
   "source": [
    "Los niveles jerárquicos pueden tener nombres (como `cadenas` o cualquier objeto de Python). Si es así, estos aparecerán en la salida de la consola:"
   ]
  },
  {
   "cell_type": "code",
   "execution_count": 29,
   "id": "ba4ef2d5-f040-4464-9608-bd2c87b0e764",
   "metadata": {},
   "outputs": [
    {
     "data": {
      "text/html": [
       "<div>\n",
       "<style scoped>\n",
       "    .dataframe tbody tr th:only-of-type {\n",
       "        vertical-align: middle;\n",
       "    }\n",
       "\n",
       "    .dataframe tbody tr th {\n",
       "        vertical-align: top;\n",
       "    }\n",
       "\n",
       "    .dataframe thead tr th {\n",
       "        text-align: left;\n",
       "    }\n",
       "\n",
       "    .dataframe thead tr:last-of-type th {\n",
       "        text-align: right;\n",
       "    }\n",
       "</style>\n",
       "<table border=\"1\" class=\"dataframe\">\n",
       "  <thead>\n",
       "    <tr>\n",
       "      <th></th>\n",
       "      <th>state</th>\n",
       "      <th colspan=\"2\" halign=\"left\">Ohio</th>\n",
       "      <th>Colorado</th>\n",
       "    </tr>\n",
       "    <tr>\n",
       "      <th></th>\n",
       "      <th>color</th>\n",
       "      <th>Green</th>\n",
       "      <th>Red</th>\n",
       "      <th>Green</th>\n",
       "    </tr>\n",
       "    <tr>\n",
       "      <th>key1</th>\n",
       "      <th>key2</th>\n",
       "      <th></th>\n",
       "      <th></th>\n",
       "      <th></th>\n",
       "    </tr>\n",
       "  </thead>\n",
       "  <tbody>\n",
       "    <tr>\n",
       "      <th rowspan=\"2\" valign=\"top\">a</th>\n",
       "      <th>1</th>\n",
       "      <td>0</td>\n",
       "      <td>1</td>\n",
       "      <td>2</td>\n",
       "    </tr>\n",
       "    <tr>\n",
       "      <th>2</th>\n",
       "      <td>3</td>\n",
       "      <td>4</td>\n",
       "      <td>5</td>\n",
       "    </tr>\n",
       "    <tr>\n",
       "      <th rowspan=\"2\" valign=\"top\">b</th>\n",
       "      <th>1</th>\n",
       "      <td>6</td>\n",
       "      <td>7</td>\n",
       "      <td>8</td>\n",
       "    </tr>\n",
       "    <tr>\n",
       "      <th>2</th>\n",
       "      <td>9</td>\n",
       "      <td>10</td>\n",
       "      <td>11</td>\n",
       "    </tr>\n",
       "  </tbody>\n",
       "</table>\n",
       "</div>"
      ],
      "text/plain": [
       "state      Ohio     Colorado\n",
       "color     Green Red    Green\n",
       "key1 key2                   \n",
       "a    1        0   1        2\n",
       "     2        3   4        5\n",
       "b    1        6   7        8\n",
       "     2        9  10       11"
      ]
     },
     "metadata": {},
     "output_type": "display_data"
    }
   ],
   "source": [
    "# Damos nombre a los índices.\n",
    "df1.index.names = ['key1','key2']\n",
    "df1.columns.names = ['state','color']\n",
    "display(df1)"
   ]
  },
  {
   "cell_type": "markdown",
   "id": "edd0013d-10bd-4567-87b2-bef06ec61362",
   "metadata": {},
   "source": [
    "Estos nombres sustituyen al atributo, que solo se utiliza con índices de un solo nivel `.name`"
   ]
  },
  {
   "cell_type": "markdown",
   "id": "79b35179-4dde-43f5-9639-ad03f6808f17",
   "metadata": {},
   "source": [
    "Podemos ver cuántos niveles tiene un índice accediendo a su atributo: `nlevels`"
   ]
  },
  {
   "cell_type": "code",
   "execution_count": 10,
   "id": "7d5a5905-8954-4b83-9237-52e1db29745a",
   "metadata": {},
   "outputs": [
    {
     "data": {
      "text/plain": [
       "2"
      ]
     },
     "execution_count": 10,
     "metadata": {},
     "output_type": "execute_result"
    }
   ],
   "source": [
    "df1.index.nlevels"
   ]
  },
  {
   "cell_type": "markdown",
   "id": "1397d32e-e2fd-4245-bac3-7c81433a13f5",
   "metadata": {},
   "source": [
    "Con la indexación parcial de columnas, puede seleccionar de manera similar grupos de columnas:"
   ]
  },
  {
   "cell_type": "code",
   "execution_count": 11,
   "id": "982af1fa-d683-40ef-b74f-3cea0e6c42c3",
   "metadata": {},
   "outputs": [
    {
     "data": {
      "text/html": [
       "<div>\n",
       "<style scoped>\n",
       "    .dataframe tbody tr th:only-of-type {\n",
       "        vertical-align: middle;\n",
       "    }\n",
       "\n",
       "    .dataframe tbody tr th {\n",
       "        vertical-align: top;\n",
       "    }\n",
       "\n",
       "    .dataframe thead th {\n",
       "        text-align: right;\n",
       "    }\n",
       "</style>\n",
       "<table border=\"1\" class=\"dataframe\">\n",
       "  <thead>\n",
       "    <tr style=\"text-align: right;\">\n",
       "      <th></th>\n",
       "      <th></th>\n",
       "      <th>Green</th>\n",
       "      <th>Red</th>\n",
       "    </tr>\n",
       "  </thead>\n",
       "  <tbody>\n",
       "    <tr>\n",
       "      <th rowspan=\"2\" valign=\"top\">a</th>\n",
       "      <th>1</th>\n",
       "      <td>0</td>\n",
       "      <td>1</td>\n",
       "    </tr>\n",
       "    <tr>\n",
       "      <th>2</th>\n",
       "      <td>3</td>\n",
       "      <td>4</td>\n",
       "    </tr>\n",
       "    <tr>\n",
       "      <th rowspan=\"2\" valign=\"top\">b</th>\n",
       "      <th>1</th>\n",
       "      <td>6</td>\n",
       "      <td>7</td>\n",
       "    </tr>\n",
       "    <tr>\n",
       "      <th>2</th>\n",
       "      <td>9</td>\n",
       "      <td>10</td>\n",
       "    </tr>\n",
       "  </tbody>\n",
       "</table>\n",
       "</div>"
      ],
      "text/plain": [
       "     Green  Red\n",
       "a 1      0    1\n",
       "  2      3    4\n",
       "b 1      6    7\n",
       "  2      9   10"
      ]
     },
     "execution_count": 11,
     "metadata": {},
     "output_type": "execute_result"
    }
   ],
   "source": [
    "# en este caso nos traemos lo relacionado con ohio\n",
    "df1['Ohio']"
   ]
  },
  {
   "cell_type": "markdown",
   "id": "c17e886e-681b-4911-9926-9cbec70dd1dd",
   "metadata": {},
   "source": [
    "Puede crearse por sí mismo y luego reutilizarse; las columnas del DataFrame anterior con nombres de nivel también se pueden crear de la siguiente manera: `MultiIndex`"
   ]
  },
  {
   "cell_type": "code",
   "execution_count": 12,
   "id": "3e9f5d6d-aea0-40ef-83dc-e000b289f671",
   "metadata": {},
   "outputs": [
    {
     "data": {
      "text/plain": [
       "MultiIndex([(    'Ohio', 'Green'),\n",
       "            (    'Ohio',   'Red'),\n",
       "            ('Colorado', 'Green')],\n",
       "           names=['state', 'color'])"
      ]
     },
     "execution_count": 12,
     "metadata": {},
     "output_type": "execute_result"
    }
   ],
   "source": [
    "pd.MultiIndex.from_arrays([[\"Ohio\", \"Ohio\", \"Colorado\"],\n",
    "                          [\"Green\", \"Red\", \"Green\"]],\n",
    "                          names=[\"state\", \"color\"])"
   ]
  },
  {
   "cell_type": "markdown",
   "id": "764b1980-d820-4483-a045-1e160471a188",
   "metadata": {},
   "source": [
    "### Re-organización y Re-sorting de indices"
   ]
  },
  {
   "cell_type": "markdown",
   "id": "b2099a2b-a6ab-4dfe-a458-0b23c5a3180b",
   "metadata": {},
   "source": [
    "A veces será necesario reorganizar el orden de los niveles en un eje u ordenar los datos por los valores en un nivel específico. El método `swaplevel()` toma dos números o nombres de nivel y devuelve un nuevo objeto con los niveles intercambiados (pero por lo demás los datos no se modifican):"
   ]
  },
  {
   "cell_type": "code",
   "execution_count": 31,
   "id": "b7237511-dd27-4fbf-ba95-bc5bd7130066",
   "metadata": {},
   "outputs": [
    {
     "data": {
      "text/html": [
       "<div>\n",
       "<style scoped>\n",
       "    .dataframe tbody tr th:only-of-type {\n",
       "        vertical-align: middle;\n",
       "    }\n",
       "\n",
       "    .dataframe tbody tr th {\n",
       "        vertical-align: top;\n",
       "    }\n",
       "\n",
       "    .dataframe thead tr th {\n",
       "        text-align: left;\n",
       "    }\n",
       "\n",
       "    .dataframe thead tr:last-of-type th {\n",
       "        text-align: right;\n",
       "    }\n",
       "</style>\n",
       "<table border=\"1\" class=\"dataframe\">\n",
       "  <thead>\n",
       "    <tr>\n",
       "      <th></th>\n",
       "      <th>state</th>\n",
       "      <th colspan=\"2\" halign=\"left\">Ohio</th>\n",
       "      <th>Colorado</th>\n",
       "    </tr>\n",
       "    <tr>\n",
       "      <th></th>\n",
       "      <th>color</th>\n",
       "      <th>Green</th>\n",
       "      <th>Red</th>\n",
       "      <th>Green</th>\n",
       "    </tr>\n",
       "    <tr>\n",
       "      <th>key2</th>\n",
       "      <th>key1</th>\n",
       "      <th></th>\n",
       "      <th></th>\n",
       "      <th></th>\n",
       "    </tr>\n",
       "  </thead>\n",
       "  <tbody>\n",
       "    <tr>\n",
       "      <th>1</th>\n",
       "      <th>a</th>\n",
       "      <td>0</td>\n",
       "      <td>1</td>\n",
       "      <td>2</td>\n",
       "    </tr>\n",
       "    <tr>\n",
       "      <th>2</th>\n",
       "      <th>a</th>\n",
       "      <td>3</td>\n",
       "      <td>4</td>\n",
       "      <td>5</td>\n",
       "    </tr>\n",
       "    <tr>\n",
       "      <th>1</th>\n",
       "      <th>b</th>\n",
       "      <td>6</td>\n",
       "      <td>7</td>\n",
       "      <td>8</td>\n",
       "    </tr>\n",
       "    <tr>\n",
       "      <th>2</th>\n",
       "      <th>b</th>\n",
       "      <td>9</td>\n",
       "      <td>10</td>\n",
       "      <td>11</td>\n",
       "    </tr>\n",
       "  </tbody>\n",
       "</table>\n",
       "</div>"
      ],
      "text/plain": [
       "state      Ohio     Colorado\n",
       "color     Green Red    Green\n",
       "key2 key1                   \n",
       "1    a        0   1        2\n",
       "2    a        3   4        5\n",
       "1    b        6   7        8\n",
       "2    b        9  10       11"
      ]
     },
     "execution_count": 31,
     "metadata": {},
     "output_type": "execute_result"
    }
   ],
   "source": [
    "# El metodo swaplevel trabaja a nivel índice y no modifica nada mas.\n",
    "df1.swaplevel('key1','key2')"
   ]
  },
  {
   "cell_type": "markdown",
   "id": "1d9f153a-2035-49eb-82bc-ceeaff3836e1",
   "metadata": {},
   "source": [
    "`sort_index` De forma predeterminada, ordena los datos lexicográficamente utilizando todos los niveles de índice, pero puede optar por usar solo un único nivel o un subconjunto de niveles para ordenar pasando el argumento:"
   ]
  },
  {
   "cell_type": "code",
   "execution_count": 13,
   "id": "0998b483-32ed-4b20-a087-df84a85da3f5",
   "metadata": {},
   "outputs": [
    {
     "data": {
      "text/html": [
       "<div>\n",
       "<style scoped>\n",
       "    .dataframe tbody tr th:only-of-type {\n",
       "        vertical-align: middle;\n",
       "    }\n",
       "\n",
       "    .dataframe tbody tr th {\n",
       "        vertical-align: top;\n",
       "    }\n",
       "\n",
       "    .dataframe thead tr th {\n",
       "        text-align: left;\n",
       "    }\n",
       "</style>\n",
       "<table border=\"1\" class=\"dataframe\">\n",
       "  <thead>\n",
       "    <tr>\n",
       "      <th></th>\n",
       "      <th></th>\n",
       "      <th colspan=\"2\" halign=\"left\">Ohio</th>\n",
       "      <th>Colorado</th>\n",
       "    </tr>\n",
       "    <tr>\n",
       "      <th></th>\n",
       "      <th></th>\n",
       "      <th>Green</th>\n",
       "      <th>Red</th>\n",
       "      <th>Green</th>\n",
       "    </tr>\n",
       "  </thead>\n",
       "  <tbody>\n",
       "    <tr>\n",
       "      <th rowspan=\"2\" valign=\"top\">a</th>\n",
       "      <th>1</th>\n",
       "      <td>0</td>\n",
       "      <td>1</td>\n",
       "      <td>2</td>\n",
       "    </tr>\n",
       "    <tr>\n",
       "      <th>2</th>\n",
       "      <td>3</td>\n",
       "      <td>4</td>\n",
       "      <td>5</td>\n",
       "    </tr>\n",
       "    <tr>\n",
       "      <th rowspan=\"2\" valign=\"top\">b</th>\n",
       "      <th>1</th>\n",
       "      <td>6</td>\n",
       "      <td>7</td>\n",
       "      <td>8</td>\n",
       "    </tr>\n",
       "    <tr>\n",
       "      <th>2</th>\n",
       "      <td>9</td>\n",
       "      <td>10</td>\n",
       "      <td>11</td>\n",
       "    </tr>\n",
       "  </tbody>\n",
       "</table>\n",
       "</div>"
      ],
      "text/plain": [
       "     Ohio     Colorado\n",
       "    Green Red    Green\n",
       "a 1     0   1        2\n",
       "  2     3   4        5\n",
       "b 1     6   7        8\n",
       "  2     9  10       11"
      ]
     },
     "execution_count": 13,
     "metadata": {},
     "output_type": "execute_result"
    }
   ],
   "source": [
    "# Ordenamos por nivel en Key1\n",
    "df1.sort_index(level = 0,ascending = True)"
   ]
  },
  {
   "cell_type": "code",
   "execution_count": 14,
   "id": "6230e471-53a4-456f-8916-76b5e7c736ae",
   "metadata": {},
   "outputs": [
    {
     "data": {
      "text/html": [
       "<div>\n",
       "<style scoped>\n",
       "    .dataframe tbody tr th:only-of-type {\n",
       "        vertical-align: middle;\n",
       "    }\n",
       "\n",
       "    .dataframe tbody tr th {\n",
       "        vertical-align: top;\n",
       "    }\n",
       "\n",
       "    .dataframe thead tr th {\n",
       "        text-align: left;\n",
       "    }\n",
       "</style>\n",
       "<table border=\"1\" class=\"dataframe\">\n",
       "  <thead>\n",
       "    <tr>\n",
       "      <th></th>\n",
       "      <th></th>\n",
       "      <th colspan=\"2\" halign=\"left\">Ohio</th>\n",
       "      <th>Colorado</th>\n",
       "    </tr>\n",
       "    <tr>\n",
       "      <th></th>\n",
       "      <th></th>\n",
       "      <th>Green</th>\n",
       "      <th>Red</th>\n",
       "      <th>Green</th>\n",
       "    </tr>\n",
       "  </thead>\n",
       "  <tbody>\n",
       "    <tr>\n",
       "      <th>a</th>\n",
       "      <th>1</th>\n",
       "      <td>0</td>\n",
       "      <td>1</td>\n",
       "      <td>2</td>\n",
       "    </tr>\n",
       "    <tr>\n",
       "      <th>b</th>\n",
       "      <th>1</th>\n",
       "      <td>6</td>\n",
       "      <td>7</td>\n",
       "      <td>8</td>\n",
       "    </tr>\n",
       "    <tr>\n",
       "      <th>a</th>\n",
       "      <th>2</th>\n",
       "      <td>3</td>\n",
       "      <td>4</td>\n",
       "      <td>5</td>\n",
       "    </tr>\n",
       "    <tr>\n",
       "      <th>b</th>\n",
       "      <th>2</th>\n",
       "      <td>9</td>\n",
       "      <td>10</td>\n",
       "      <td>11</td>\n",
       "    </tr>\n",
       "  </tbody>\n",
       "</table>\n",
       "</div>"
      ],
      "text/plain": [
       "     Ohio     Colorado\n",
       "    Green Red    Green\n",
       "a 1     0   1        2\n",
       "b 1     6   7        8\n",
       "a 2     3   4        5\n",
       "b 2     9  10       11"
      ]
     },
     "execution_count": 14,
     "metadata": {},
     "output_type": "execute_result"
    }
   ],
   "source": [
    "# Ordenamos por nivel\n",
    "df1.sort_index(level = 1,ascending = True)"
   ]
  },
  {
   "cell_type": "code",
   "execution_count": 15,
   "id": "87111fe1-eaa6-41fb-8379-c884ca17b198",
   "metadata": {},
   "outputs": [
    {
     "data": {
      "text/html": [
       "<div>\n",
       "<style scoped>\n",
       "    .dataframe tbody tr th:only-of-type {\n",
       "        vertical-align: middle;\n",
       "    }\n",
       "\n",
       "    .dataframe tbody tr th {\n",
       "        vertical-align: top;\n",
       "    }\n",
       "\n",
       "    .dataframe thead tr th {\n",
       "        text-align: left;\n",
       "    }\n",
       "</style>\n",
       "<table border=\"1\" class=\"dataframe\">\n",
       "  <thead>\n",
       "    <tr>\n",
       "      <th></th>\n",
       "      <th></th>\n",
       "      <th colspan=\"2\" halign=\"left\">Ohio</th>\n",
       "      <th>Colorado</th>\n",
       "    </tr>\n",
       "    <tr>\n",
       "      <th></th>\n",
       "      <th></th>\n",
       "      <th>Green</th>\n",
       "      <th>Red</th>\n",
       "      <th>Green</th>\n",
       "    </tr>\n",
       "  </thead>\n",
       "  <tbody>\n",
       "    <tr>\n",
       "      <th rowspan=\"2\" valign=\"top\">1</th>\n",
       "      <th>a</th>\n",
       "      <td>0</td>\n",
       "      <td>1</td>\n",
       "      <td>2</td>\n",
       "    </tr>\n",
       "    <tr>\n",
       "      <th>b</th>\n",
       "      <td>6</td>\n",
       "      <td>7</td>\n",
       "      <td>8</td>\n",
       "    </tr>\n",
       "    <tr>\n",
       "      <th rowspan=\"2\" valign=\"top\">2</th>\n",
       "      <th>a</th>\n",
       "      <td>3</td>\n",
       "      <td>4</td>\n",
       "      <td>5</td>\n",
       "    </tr>\n",
       "    <tr>\n",
       "      <th>b</th>\n",
       "      <td>9</td>\n",
       "      <td>10</td>\n",
       "      <td>11</td>\n",
       "    </tr>\n",
       "  </tbody>\n",
       "</table>\n",
       "</div>"
      ],
      "text/plain": [
       "     Ohio     Colorado\n",
       "    Green Red    Green\n",
       "1 a     0   1        2\n",
       "  b     6   7        8\n",
       "2 a     3   4        5\n",
       "  b     9  10       11"
      ]
     },
     "execution_count": 15,
     "metadata": {},
     "output_type": "execute_result"
    }
   ],
   "source": [
    "# Probamos de combinar el swap y el sort_index\n",
    "df1.swaplevel(0,1).sort_index(level = 0)"
   ]
  },
  {
   "cell_type": "markdown",
   "id": "d7315cfd-59d6-4c9a-b157-c7dfa0dec275",
   "metadata": {},
   "source": [
    "El uso de índices simples y múltiples facilita el acceso a los datos utilizando métodos como `loc` e `iloc`.\n",
    "\n",
    "También son muy utilizados para combinar múltiples fuentes de datos, relacionándolos mediante el `index`"
   ]
  },
  {
   "cell_type": "markdown",
   "id": "2b3f956f-86f9-4eb7-8db7-129923aba667",
   "metadata": {},
   "source": [
    "### Combinación y unión de datasets"
   ]
  },
  {
   "cell_type": "markdown",
   "id": "c838a679-e705-4a62-99d5-0894541b0aa3",
   "metadata": {},
   "source": [
    "Para agregar información a un dataset (`DataFrame`), se pueden incluir filas o columnas. \n",
    "Dentro del módulo `Pandas` existen 3 métodos para combinar `DataFrames`:\n",
    " - `pandas.join()` conecta filas de `DataFrames` alineando el índice o alguna columna de uno con el índice del otro. Esto será familiar para los usuarios de SQL u otras bases de datos relacionales, ya que implementa operaciones de `join` de bases de datos.\n",
    " - `pandas.merge()` conecta filas en `DataFrames` utilizando columnas o índices para alinearlos. Este método es muy similar al `join`, pero es mas versatil, ya que permite relacionar `DataFrames` utilizando columnas diferentes. \n",
    " - `pandas.concat()` concatena o \"apila\" objetos a lo largo de un eje. Este método permite actualizar los indices o manterlos al concatenar.\n",
    " \n",
    " Veamos un pequeño ejemplo de como se utilizan estas funciones."
   ]
  },
  {
   "cell_type": "code",
   "execution_count": 19,
   "id": "afabef54-0009-43c0-a67b-07bc77b7fcea",
   "metadata": {},
   "outputs": [
    {
     "data": {
      "text/html": [
       "<div>\n",
       "<style scoped>\n",
       "    .dataframe tbody tr th:only-of-type {\n",
       "        vertical-align: middle;\n",
       "    }\n",
       "\n",
       "    .dataframe tbody tr th {\n",
       "        vertical-align: top;\n",
       "    }\n",
       "\n",
       "    .dataframe thead th {\n",
       "        text-align: right;\n",
       "    }\n",
       "</style>\n",
       "<table border=\"1\" class=\"dataframe\">\n",
       "  <thead>\n",
       "    <tr style=\"text-align: right;\">\n",
       "      <th></th>\n",
       "      <th>key</th>\n",
       "      <th>data1</th>\n",
       "    </tr>\n",
       "  </thead>\n",
       "  <tbody>\n",
       "    <tr>\n",
       "      <th>0</th>\n",
       "      <td>b</td>\n",
       "      <td>0</td>\n",
       "    </tr>\n",
       "    <tr>\n",
       "      <th>1</th>\n",
       "      <td>b</td>\n",
       "      <td>1</td>\n",
       "    </tr>\n",
       "    <tr>\n",
       "      <th>2</th>\n",
       "      <td>a</td>\n",
       "      <td>2</td>\n",
       "    </tr>\n",
       "    <tr>\n",
       "      <th>3</th>\n",
       "      <td>c</td>\n",
       "      <td>3</td>\n",
       "    </tr>\n",
       "    <tr>\n",
       "      <th>4</th>\n",
       "      <td>a</td>\n",
       "      <td>4</td>\n",
       "    </tr>\n",
       "    <tr>\n",
       "      <th>5</th>\n",
       "      <td>a</td>\n",
       "      <td>5</td>\n",
       "    </tr>\n",
       "    <tr>\n",
       "      <th>6</th>\n",
       "      <td>b</td>\n",
       "      <td>6</td>\n",
       "    </tr>\n",
       "  </tbody>\n",
       "</table>\n",
       "</div>"
      ],
      "text/plain": [
       "  key  data1\n",
       "0   b      0\n",
       "1   b      1\n",
       "2   a      2\n",
       "3   c      3\n",
       "4   a      4\n",
       "5   a      5\n",
       "6   b      6"
      ]
     },
     "execution_count": 19,
     "metadata": {},
     "output_type": "execute_result"
    }
   ],
   "source": [
    "df2 = pd.DataFrame({'key':['b','b','a','c','a','a','b'],\n",
    "                   'data1':range(7)})\n",
    "\n",
    "df2"
   ]
  },
  {
   "cell_type": "code",
   "execution_count": 17,
   "id": "063aaca5-4a07-4f09-9c43-a5a8bec3de63",
   "metadata": {},
   "outputs": [
    {
     "data": {
      "text/html": [
       "<div>\n",
       "<style scoped>\n",
       "    .dataframe tbody tr th:only-of-type {\n",
       "        vertical-align: middle;\n",
       "    }\n",
       "\n",
       "    .dataframe tbody tr th {\n",
       "        vertical-align: top;\n",
       "    }\n",
       "\n",
       "    .dataframe thead th {\n",
       "        text-align: right;\n",
       "    }\n",
       "</style>\n",
       "<table border=\"1\" class=\"dataframe\">\n",
       "  <thead>\n",
       "    <tr style=\"text-align: right;\">\n",
       "      <th></th>\n",
       "      <th>key</th>\n",
       "      <th>data2</th>\n",
       "    </tr>\n",
       "  </thead>\n",
       "  <tbody>\n",
       "    <tr>\n",
       "      <th>0</th>\n",
       "      <td>a</td>\n",
       "      <td>0</td>\n",
       "    </tr>\n",
       "    <tr>\n",
       "      <th>1</th>\n",
       "      <td>b</td>\n",
       "      <td>1</td>\n",
       "    </tr>\n",
       "    <tr>\n",
       "      <th>2</th>\n",
       "      <td>d</td>\n",
       "      <td>2</td>\n",
       "    </tr>\n",
       "  </tbody>\n",
       "</table>\n",
       "</div>"
      ],
      "text/plain": [
       "  key  data2\n",
       "0   a      0\n",
       "1   b      1\n",
       "2   d      2"
      ]
     },
     "execution_count": 17,
     "metadata": {},
     "output_type": "execute_result"
    }
   ],
   "source": [
    "df3 = pd.DataFrame({'key':['a','b','d'],\n",
    "                   'data2':range(3)})\n",
    "\n",
    "df3"
   ]
  },
  {
   "cell_type": "code",
   "execution_count": 20,
   "id": "2af3fcee-0c24-4da4-bfe1-43d483db4ce8",
   "metadata": {},
   "outputs": [
    {
     "data": {
      "text/html": [
       "<div>\n",
       "<style scoped>\n",
       "    .dataframe tbody tr th:only-of-type {\n",
       "        vertical-align: middle;\n",
       "    }\n",
       "\n",
       "    .dataframe tbody tr th {\n",
       "        vertical-align: top;\n",
       "    }\n",
       "\n",
       "    .dataframe thead th {\n",
       "        text-align: right;\n",
       "    }\n",
       "</style>\n",
       "<table border=\"1\" class=\"dataframe\">\n",
       "  <thead>\n",
       "    <tr style=\"text-align: right;\">\n",
       "      <th></th>\n",
       "      <th>key_left</th>\n",
       "      <th>data1</th>\n",
       "      <th>key_right</th>\n",
       "      <th>data2</th>\n",
       "    </tr>\n",
       "  </thead>\n",
       "  <tbody>\n",
       "    <tr>\n",
       "      <th>0</th>\n",
       "      <td>b</td>\n",
       "      <td>0</td>\n",
       "      <td>a</td>\n",
       "      <td>0.0</td>\n",
       "    </tr>\n",
       "    <tr>\n",
       "      <th>1</th>\n",
       "      <td>b</td>\n",
       "      <td>1</td>\n",
       "      <td>b</td>\n",
       "      <td>1.0</td>\n",
       "    </tr>\n",
       "    <tr>\n",
       "      <th>2</th>\n",
       "      <td>a</td>\n",
       "      <td>2</td>\n",
       "      <td>d</td>\n",
       "      <td>2.0</td>\n",
       "    </tr>\n",
       "    <tr>\n",
       "      <th>3</th>\n",
       "      <td>c</td>\n",
       "      <td>3</td>\n",
       "      <td>NaN</td>\n",
       "      <td>NaN</td>\n",
       "    </tr>\n",
       "    <tr>\n",
       "      <th>4</th>\n",
       "      <td>a</td>\n",
       "      <td>4</td>\n",
       "      <td>NaN</td>\n",
       "      <td>NaN</td>\n",
       "    </tr>\n",
       "    <tr>\n",
       "      <th>5</th>\n",
       "      <td>a</td>\n",
       "      <td>5</td>\n",
       "      <td>NaN</td>\n",
       "      <td>NaN</td>\n",
       "    </tr>\n",
       "    <tr>\n",
       "      <th>6</th>\n",
       "      <td>b</td>\n",
       "      <td>6</td>\n",
       "      <td>NaN</td>\n",
       "      <td>NaN</td>\n",
       "    </tr>\n",
       "  </tbody>\n",
       "</table>\n",
       "</div>"
      ],
      "text/plain": [
       "  key_left  data1 key_right  data2\n",
       "0        b      0         a    0.0\n",
       "1        b      1         b    1.0\n",
       "2        a      2         d    2.0\n",
       "3        c      3       NaN    NaN\n",
       "4        a      4       NaN    NaN\n",
       "5        a      5       NaN    NaN\n",
       "6        b      6       NaN    NaN"
      ]
     },
     "execution_count": 20,
     "metadata": {},
     "output_type": "execute_result"
    }
   ],
   "source": [
    "# how le dice que estructura preserva y le agregamos sufijos a las columnas que sean comunes a ambos \n",
    "df2.join(df3, how='left',lsuffix='_left', rsuffix = '_right')"
   ]
  },
  {
   "cell_type": "code",
   "execution_count": 21,
   "id": "7395d242-c0d0-4ef2-b0d2-2dcbaf1c5654",
   "metadata": {},
   "outputs": [
    {
     "data": {
      "text/html": [
       "<div>\n",
       "<style scoped>\n",
       "    .dataframe tbody tr th:only-of-type {\n",
       "        vertical-align: middle;\n",
       "    }\n",
       "\n",
       "    .dataframe tbody tr th {\n",
       "        vertical-align: top;\n",
       "    }\n",
       "\n",
       "    .dataframe thead th {\n",
       "        text-align: right;\n",
       "    }\n",
       "</style>\n",
       "<table border=\"1\" class=\"dataframe\">\n",
       "  <thead>\n",
       "    <tr style=\"text-align: right;\">\n",
       "      <th></th>\n",
       "      <th>key_left</th>\n",
       "      <th>data1</th>\n",
       "      <th>key_right</th>\n",
       "      <th>data2</th>\n",
       "    </tr>\n",
       "  </thead>\n",
       "  <tbody>\n",
       "    <tr>\n",
       "      <th>0</th>\n",
       "      <td>b</td>\n",
       "      <td>0</td>\n",
       "      <td>a</td>\n",
       "      <td>0</td>\n",
       "    </tr>\n",
       "    <tr>\n",
       "      <th>1</th>\n",
       "      <td>b</td>\n",
       "      <td>1</td>\n",
       "      <td>b</td>\n",
       "      <td>1</td>\n",
       "    </tr>\n",
       "    <tr>\n",
       "      <th>2</th>\n",
       "      <td>a</td>\n",
       "      <td>2</td>\n",
       "      <td>d</td>\n",
       "      <td>2</td>\n",
       "    </tr>\n",
       "  </tbody>\n",
       "</table>\n",
       "</div>"
      ],
      "text/plain": [
       "  key_left  data1 key_right  data2\n",
       "0        b      0         a      0\n",
       "1        b      1         b      1\n",
       "2        a      2         d      2"
      ]
     },
     "execution_count": 21,
     "metadata": {},
     "output_type": "execute_result"
    }
   ],
   "source": [
    "df2.join(df3, how='right',lsuffix='_left', rsuffix = '_right')"
   ]
  },
  {
   "cell_type": "markdown",
   "id": "ea2252c5-303c-4666-8caa-5a37f0d690c9",
   "metadata": {},
   "source": [
    "Este es un ejemplo de una unión de muchos a uno; los datos de **df2** tienen múltiples filas etiquetadas como **a** y **b**, mientras que **df3** tiene sólo una fila para cada valor en la columna clave. Llamando a `merge()` con estos objetos obtenemos: "
   ]
  },
  {
   "cell_type": "code",
   "execution_count": 44,
   "id": "b680a12e-f0e6-4eab-b486-8d499d86d347",
   "metadata": {},
   "outputs": [
    {
     "data": {
      "text/html": [
       "<div>\n",
       "<style scoped>\n",
       "    .dataframe tbody tr th:only-of-type {\n",
       "        vertical-align: middle;\n",
       "    }\n",
       "\n",
       "    .dataframe tbody tr th {\n",
       "        vertical-align: top;\n",
       "    }\n",
       "\n",
       "    .dataframe thead th {\n",
       "        text-align: right;\n",
       "    }\n",
       "</style>\n",
       "<table border=\"1\" class=\"dataframe\">\n",
       "  <thead>\n",
       "    <tr style=\"text-align: right;\">\n",
       "      <th></th>\n",
       "      <th>key</th>\n",
       "      <th>data1</th>\n",
       "      <th>data2</th>\n",
       "    </tr>\n",
       "  </thead>\n",
       "  <tbody>\n",
       "    <tr>\n",
       "      <th>0</th>\n",
       "      <td>b</td>\n",
       "      <td>0</td>\n",
       "      <td>1</td>\n",
       "    </tr>\n",
       "    <tr>\n",
       "      <th>1</th>\n",
       "      <td>b</td>\n",
       "      <td>1</td>\n",
       "      <td>1</td>\n",
       "    </tr>\n",
       "    <tr>\n",
       "      <th>2</th>\n",
       "      <td>b</td>\n",
       "      <td>6</td>\n",
       "      <td>1</td>\n",
       "    </tr>\n",
       "    <tr>\n",
       "      <th>3</th>\n",
       "      <td>a</td>\n",
       "      <td>2</td>\n",
       "      <td>0</td>\n",
       "    </tr>\n",
       "    <tr>\n",
       "      <th>4</th>\n",
       "      <td>a</td>\n",
       "      <td>4</td>\n",
       "      <td>0</td>\n",
       "    </tr>\n",
       "    <tr>\n",
       "      <th>5</th>\n",
       "      <td>a</td>\n",
       "      <td>5</td>\n",
       "      <td>0</td>\n",
       "    </tr>\n",
       "  </tbody>\n",
       "</table>\n",
       "</div>"
      ],
      "text/plain": [
       "  key  data1  data2\n",
       "0   b      0      1\n",
       "1   b      1      1\n",
       "2   b      6      1\n",
       "3   a      2      0\n",
       "4   a      4      0\n",
       "5   a      5      0"
      ]
     },
     "execution_count": 44,
     "metadata": {},
     "output_type": "execute_result"
    }
   ],
   "source": [
    "# Ejemplo de uso de merge\n",
    "pd.merge(df2,df3)"
   ]
  },
  {
   "cell_type": "markdown",
   "id": "c1bbb647-6197-4319-964a-3bb7f371aef7",
   "metadata": {},
   "source": [
    "Hay que notar que no especificamos sobre cuál columna realizar el `merge()`. Si no se especifica esa información, el método `pd.merge()` utiliza los nombres de las columnas superpuestas como claves. Sin embargo, es una buena práctica especificar explícitamente"
   ]
  },
  {
   "cell_type": "code",
   "execution_count": 45,
   "id": "9df7b75c-8e05-4a93-bbcf-4f1d8ad87c1e",
   "metadata": {},
   "outputs": [
    {
     "data": {
      "text/html": [
       "<div>\n",
       "<style scoped>\n",
       "    .dataframe tbody tr th:only-of-type {\n",
       "        vertical-align: middle;\n",
       "    }\n",
       "\n",
       "    .dataframe tbody tr th {\n",
       "        vertical-align: top;\n",
       "    }\n",
       "\n",
       "    .dataframe thead th {\n",
       "        text-align: right;\n",
       "    }\n",
       "</style>\n",
       "<table border=\"1\" class=\"dataframe\">\n",
       "  <thead>\n",
       "    <tr style=\"text-align: right;\">\n",
       "      <th></th>\n",
       "      <th>key</th>\n",
       "      <th>data1</th>\n",
       "      <th>data2</th>\n",
       "    </tr>\n",
       "  </thead>\n",
       "  <tbody>\n",
       "    <tr>\n",
       "      <th>0</th>\n",
       "      <td>b</td>\n",
       "      <td>0</td>\n",
       "      <td>1</td>\n",
       "    </tr>\n",
       "    <tr>\n",
       "      <th>1</th>\n",
       "      <td>b</td>\n",
       "      <td>1</td>\n",
       "      <td>1</td>\n",
       "    </tr>\n",
       "    <tr>\n",
       "      <th>2</th>\n",
       "      <td>b</td>\n",
       "      <td>6</td>\n",
       "      <td>1</td>\n",
       "    </tr>\n",
       "    <tr>\n",
       "      <th>3</th>\n",
       "      <td>a</td>\n",
       "      <td>2</td>\n",
       "      <td>0</td>\n",
       "    </tr>\n",
       "    <tr>\n",
       "      <th>4</th>\n",
       "      <td>a</td>\n",
       "      <td>4</td>\n",
       "      <td>0</td>\n",
       "    </tr>\n",
       "    <tr>\n",
       "      <th>5</th>\n",
       "      <td>a</td>\n",
       "      <td>5</td>\n",
       "      <td>0</td>\n",
       "    </tr>\n",
       "  </tbody>\n",
       "</table>\n",
       "</div>"
      ],
      "text/plain": [
       "  key  data1  data2\n",
       "0   b      0      1\n",
       "1   b      1      1\n",
       "2   b      6      1\n",
       "3   a      2      0\n",
       "4   a      4      0\n",
       "5   a      5      0"
      ]
     },
     "execution_count": 45,
     "metadata": {},
     "output_type": "execute_result"
    }
   ],
   "source": [
    "# Siempre que se pueda debemos ser bien explicitos.\n",
    "pd.merge(df2,df3,on='key')"
   ]
  },
  {
   "cell_type": "markdown",
   "id": "e867cffe-0b4f-470a-a273-6bc55cb4a7a9",
   "metadata": {},
   "source": [
    "Vemos otro ejemplo. Si los nombres de las columnas son diferentes en cada objeto, podemos especificarlos por separado:"
   ]
  },
  {
   "cell_type": "code",
   "execution_count": 24,
   "id": "0b424283-d520-4d70-a896-594bf8cb8c82",
   "metadata": {},
   "outputs": [
    {
     "data": {
      "text/html": [
       "<div>\n",
       "<style scoped>\n",
       "    .dataframe tbody tr th:only-of-type {\n",
       "        vertical-align: middle;\n",
       "    }\n",
       "\n",
       "    .dataframe tbody tr th {\n",
       "        vertical-align: top;\n",
       "    }\n",
       "\n",
       "    .dataframe thead th {\n",
       "        text-align: right;\n",
       "    }\n",
       "</style>\n",
       "<table border=\"1\" class=\"dataframe\">\n",
       "  <thead>\n",
       "    <tr style=\"text-align: right;\">\n",
       "      <th></th>\n",
       "      <th>lkey</th>\n",
       "      <th>data1</th>\n",
       "    </tr>\n",
       "  </thead>\n",
       "  <tbody>\n",
       "    <tr>\n",
       "      <th>0</th>\n",
       "      <td>b</td>\n",
       "      <td>0</td>\n",
       "    </tr>\n",
       "    <tr>\n",
       "      <th>1</th>\n",
       "      <td>b</td>\n",
       "      <td>1</td>\n",
       "    </tr>\n",
       "    <tr>\n",
       "      <th>2</th>\n",
       "      <td>a</td>\n",
       "      <td>2</td>\n",
       "    </tr>\n",
       "    <tr>\n",
       "      <th>3</th>\n",
       "      <td>c</td>\n",
       "      <td>3</td>\n",
       "    </tr>\n",
       "    <tr>\n",
       "      <th>4</th>\n",
       "      <td>a</td>\n",
       "      <td>4</td>\n",
       "    </tr>\n",
       "    <tr>\n",
       "      <th>5</th>\n",
       "      <td>a</td>\n",
       "      <td>5</td>\n",
       "    </tr>\n",
       "    <tr>\n",
       "      <th>6</th>\n",
       "      <td>b</td>\n",
       "      <td>6</td>\n",
       "    </tr>\n",
       "  </tbody>\n",
       "</table>\n",
       "</div>"
      ],
      "text/plain": [
       "  lkey  data1\n",
       "0    b      0\n",
       "1    b      1\n",
       "2    a      2\n",
       "3    c      3\n",
       "4    a      4\n",
       "5    a      5\n",
       "6    b      6"
      ]
     },
     "metadata": {},
     "output_type": "display_data"
    },
    {
     "data": {
      "text/html": [
       "<div>\n",
       "<style scoped>\n",
       "    .dataframe tbody tr th:only-of-type {\n",
       "        vertical-align: middle;\n",
       "    }\n",
       "\n",
       "    .dataframe tbody tr th {\n",
       "        vertical-align: top;\n",
       "    }\n",
       "\n",
       "    .dataframe thead th {\n",
       "        text-align: right;\n",
       "    }\n",
       "</style>\n",
       "<table border=\"1\" class=\"dataframe\">\n",
       "  <thead>\n",
       "    <tr style=\"text-align: right;\">\n",
       "      <th></th>\n",
       "      <th>rkey</th>\n",
       "      <th>data2</th>\n",
       "    </tr>\n",
       "  </thead>\n",
       "  <tbody>\n",
       "    <tr>\n",
       "      <th>0</th>\n",
       "      <td>a</td>\n",
       "      <td>0</td>\n",
       "    </tr>\n",
       "    <tr>\n",
       "      <th>1</th>\n",
       "      <td>b</td>\n",
       "      <td>1</td>\n",
       "    </tr>\n",
       "    <tr>\n",
       "      <th>2</th>\n",
       "      <td>d</td>\n",
       "      <td>2</td>\n",
       "    </tr>\n",
       "  </tbody>\n",
       "</table>\n",
       "</div>"
      ],
      "text/plain": [
       "  rkey  data2\n",
       "0    a      0\n",
       "1    b      1\n",
       "2    d      2"
      ]
     },
     "metadata": {},
     "output_type": "display_data"
    }
   ],
   "source": [
    "df4 = pd.DataFrame({'lkey':['b','b','a','c','a','a','b'],\n",
    "                   'data1':range(7)})\n",
    "\n",
    "df5 = pd.DataFrame({'rkey':['a','b','d'],\n",
    "                   'data2': range(3)})\n",
    "display(df4)\n",
    "display(df5)"
   ]
  },
  {
   "cell_type": "code",
   "execution_count": 25,
   "id": "2d4e199f-5011-405b-8f0b-dfaa74127c60",
   "metadata": {},
   "outputs": [
    {
     "data": {
      "text/html": [
       "<div>\n",
       "<style scoped>\n",
       "    .dataframe tbody tr th:only-of-type {\n",
       "        vertical-align: middle;\n",
       "    }\n",
       "\n",
       "    .dataframe tbody tr th {\n",
       "        vertical-align: top;\n",
       "    }\n",
       "\n",
       "    .dataframe thead th {\n",
       "        text-align: right;\n",
       "    }\n",
       "</style>\n",
       "<table border=\"1\" class=\"dataframe\">\n",
       "  <thead>\n",
       "    <tr style=\"text-align: right;\">\n",
       "      <th></th>\n",
       "      <th>lkey</th>\n",
       "      <th>data1</th>\n",
       "      <th>rkey</th>\n",
       "      <th>data2</th>\n",
       "    </tr>\n",
       "  </thead>\n",
       "  <tbody>\n",
       "    <tr>\n",
       "      <th>0</th>\n",
       "      <td>b</td>\n",
       "      <td>0</td>\n",
       "      <td>b</td>\n",
       "      <td>1</td>\n",
       "    </tr>\n",
       "    <tr>\n",
       "      <th>1</th>\n",
       "      <td>b</td>\n",
       "      <td>1</td>\n",
       "      <td>b</td>\n",
       "      <td>1</td>\n",
       "    </tr>\n",
       "    <tr>\n",
       "      <th>2</th>\n",
       "      <td>b</td>\n",
       "      <td>6</td>\n",
       "      <td>b</td>\n",
       "      <td>1</td>\n",
       "    </tr>\n",
       "    <tr>\n",
       "      <th>3</th>\n",
       "      <td>a</td>\n",
       "      <td>2</td>\n",
       "      <td>a</td>\n",
       "      <td>0</td>\n",
       "    </tr>\n",
       "    <tr>\n",
       "      <th>4</th>\n",
       "      <td>a</td>\n",
       "      <td>4</td>\n",
       "      <td>a</td>\n",
       "      <td>0</td>\n",
       "    </tr>\n",
       "    <tr>\n",
       "      <th>5</th>\n",
       "      <td>a</td>\n",
       "      <td>5</td>\n",
       "      <td>a</td>\n",
       "      <td>0</td>\n",
       "    </tr>\n",
       "  </tbody>\n",
       "</table>\n",
       "</div>"
      ],
      "text/plain": [
       "  lkey  data1 rkey  data2\n",
       "0    b      0    b      1\n",
       "1    b      1    b      1\n",
       "2    b      6    b      1\n",
       "3    a      2    a      0\n",
       "4    a      4    a      0\n",
       "5    a      5    a      0"
      ]
     },
     "execution_count": 25,
     "metadata": {},
     "output_type": "execute_result"
    }
   ],
   "source": [
    "# Le podemos decir que columna mirar en cada DF cuando tienen diferente nombre.\n",
    "pd.merge(df4,df5, left_on='lkey', right_on='rkey')"
   ]
  },
  {
   "cell_type": "markdown",
   "id": "c01da125-9b91-44da-8db8-36df23e0ae84",
   "metadata": {},
   "source": [
    "Podemos notar que los valores 'c' y 'd' y los datos asociados faltan en el resultado. Por default, `pd.merge()` realiza un `'inner'` join. Las claves del resultado son la intersección, o el conjunto común que se encuentra en ambas tablas. Otras opciones posibles son `'left'`, `'right'` y `'outer'`. El  `'outer'` join toma la unión de las claves, combinando el efecto de aplicar ambas uniones, `'left'` y `'right'`:"
   ]
  },
  {
   "cell_type": "code",
   "execution_count": 54,
   "id": "7a24019e-6405-4d20-82c4-1d26e95ad326",
   "metadata": {},
   "outputs": [
    {
     "data": {
      "text/html": [
       "<div>\n",
       "<style scoped>\n",
       "    .dataframe tbody tr th:only-of-type {\n",
       "        vertical-align: middle;\n",
       "    }\n",
       "\n",
       "    .dataframe tbody tr th {\n",
       "        vertical-align: top;\n",
       "    }\n",
       "\n",
       "    .dataframe thead th {\n",
       "        text-align: right;\n",
       "    }\n",
       "</style>\n",
       "<table border=\"1\" class=\"dataframe\">\n",
       "  <thead>\n",
       "    <tr style=\"text-align: right;\">\n",
       "      <th></th>\n",
       "      <th>key</th>\n",
       "      <th>data1</th>\n",
       "      <th>data2</th>\n",
       "    </tr>\n",
       "  </thead>\n",
       "  <tbody>\n",
       "    <tr>\n",
       "      <th>0</th>\n",
       "      <td>b</td>\n",
       "      <td>0.0</td>\n",
       "      <td>1.0</td>\n",
       "    </tr>\n",
       "    <tr>\n",
       "      <th>1</th>\n",
       "      <td>b</td>\n",
       "      <td>1.0</td>\n",
       "      <td>1.0</td>\n",
       "    </tr>\n",
       "    <tr>\n",
       "      <th>2</th>\n",
       "      <td>b</td>\n",
       "      <td>6.0</td>\n",
       "      <td>1.0</td>\n",
       "    </tr>\n",
       "    <tr>\n",
       "      <th>3</th>\n",
       "      <td>a</td>\n",
       "      <td>2.0</td>\n",
       "      <td>0.0</td>\n",
       "    </tr>\n",
       "    <tr>\n",
       "      <th>4</th>\n",
       "      <td>a</td>\n",
       "      <td>4.0</td>\n",
       "      <td>0.0</td>\n",
       "    </tr>\n",
       "    <tr>\n",
       "      <th>5</th>\n",
       "      <td>a</td>\n",
       "      <td>5.0</td>\n",
       "      <td>0.0</td>\n",
       "    </tr>\n",
       "    <tr>\n",
       "      <th>6</th>\n",
       "      <td>c</td>\n",
       "      <td>3.0</td>\n",
       "      <td>NaN</td>\n",
       "    </tr>\n",
       "    <tr>\n",
       "      <th>7</th>\n",
       "      <td>d</td>\n",
       "      <td>NaN</td>\n",
       "      <td>2.0</td>\n",
       "    </tr>\n",
       "  </tbody>\n",
       "</table>\n",
       "</div>"
      ],
      "text/plain": [
       "  key  data1  data2\n",
       "0   b    0.0    1.0\n",
       "1   b    1.0    1.0\n",
       "2   b    6.0    1.0\n",
       "3   a    2.0    0.0\n",
       "4   a    4.0    0.0\n",
       "5   a    5.0    0.0\n",
       "6   c    3.0    NaN\n",
       "7   d    NaN    2.0"
      ]
     },
     "execution_count": 54,
     "metadata": {},
     "output_type": "execute_result"
    }
   ],
   "source": [
    "# Si le pasamos outer va a hacer la unión en lugar de la intersección\n",
    "pd.merge(df2, df3, how = 'outer')"
   ]
  },
  {
   "cell_type": "markdown",
   "id": "59ac1db6-0622-4346-85c6-369328e28450",
   "metadata": {},
   "source": [
    "### Ejemplo con el dataset de producción:"
   ]
  },
  {
   "cell_type": "code",
   "execution_count": 28,
   "id": "15cb5ed7-348d-4880-9acc-af43944b788f",
   "metadata": {},
   "outputs": [],
   "source": [
    "user_usage = pd.read_csv(\"data2/user_usage.csv\")\n",
    "user_device = pd.read_csv(\"data2/user_device.csv\")\n",
    "devices = pd.read_csv(\"data2/android_devices.csv\")\n",
    "devices.rename(columns={'Retail Branding':'fabricante'},inplace=True)"
   ]
  },
  {
   "cell_type": "code",
   "execution_count": 29,
   "id": "924a091e-ccbf-4f11-b43d-825c004dfaf5",
   "metadata": {},
   "outputs": [
    {
     "data": {
      "text/html": [
       "<div>\n",
       "<style scoped>\n",
       "    .dataframe tbody tr th:only-of-type {\n",
       "        vertical-align: middle;\n",
       "    }\n",
       "\n",
       "    .dataframe tbody tr th {\n",
       "        vertical-align: top;\n",
       "    }\n",
       "\n",
       "    .dataframe thead th {\n",
       "        text-align: right;\n",
       "    }\n",
       "</style>\n",
       "<table border=\"1\" class=\"dataframe\">\n",
       "  <thead>\n",
       "    <tr style=\"text-align: right;\">\n",
       "      <th></th>\n",
       "      <th>min_saliente_mes</th>\n",
       "      <th>sms_saliente_mes</th>\n",
       "      <th>data_mb_mes</th>\n",
       "      <th>id_uso</th>\n",
       "    </tr>\n",
       "  </thead>\n",
       "  <tbody>\n",
       "    <tr>\n",
       "      <th>0</th>\n",
       "      <td>21.97</td>\n",
       "      <td>4.82</td>\n",
       "      <td>1557.33</td>\n",
       "      <td>22787</td>\n",
       "    </tr>\n",
       "    <tr>\n",
       "      <th>1</th>\n",
       "      <td>1710.08</td>\n",
       "      <td>136.88</td>\n",
       "      <td>7267.55</td>\n",
       "      <td>22788</td>\n",
       "    </tr>\n",
       "    <tr>\n",
       "      <th>2</th>\n",
       "      <td>1710.08</td>\n",
       "      <td>136.88</td>\n",
       "      <td>7267.55</td>\n",
       "      <td>22789</td>\n",
       "    </tr>\n",
       "    <tr>\n",
       "      <th>3</th>\n",
       "      <td>94.46</td>\n",
       "      <td>35.17</td>\n",
       "      <td>519.12</td>\n",
       "      <td>22790</td>\n",
       "    </tr>\n",
       "    <tr>\n",
       "      <th>4</th>\n",
       "      <td>71.59</td>\n",
       "      <td>79.26</td>\n",
       "      <td>1557.33</td>\n",
       "      <td>22792</td>\n",
       "    </tr>\n",
       "  </tbody>\n",
       "</table>\n",
       "</div>"
      ],
      "text/plain": [
       "   min_saliente_mes  sms_saliente_mes  data_mb_mes  id_uso\n",
       "0             21.97              4.82      1557.33   22787\n",
       "1           1710.08            136.88      7267.55   22788\n",
       "2           1710.08            136.88      7267.55   22789\n",
       "3             94.46             35.17       519.12   22790\n",
       "4             71.59             79.26      1557.33   22792"
      ]
     },
     "execution_count": 29,
     "metadata": {},
     "output_type": "execute_result"
    }
   ],
   "source": [
    "user_usage.head()"
   ]
  },
  {
   "cell_type": "code",
   "execution_count": 30,
   "id": "c36d74ad-0f68-4e7a-9807-e7ad0170f98f",
   "metadata": {},
   "outputs": [
    {
     "data": {
      "text/html": [
       "<div>\n",
       "<style scoped>\n",
       "    .dataframe tbody tr th:only-of-type {\n",
       "        vertical-align: middle;\n",
       "    }\n",
       "\n",
       "    .dataframe tbody tr th {\n",
       "        vertical-align: top;\n",
       "    }\n",
       "\n",
       "    .dataframe thead th {\n",
       "        text-align: right;\n",
       "    }\n",
       "</style>\n",
       "<table border=\"1\" class=\"dataframe\">\n",
       "  <thead>\n",
       "    <tr style=\"text-align: right;\">\n",
       "      <th></th>\n",
       "      <th>id_uso</th>\n",
       "      <th>id_usuario</th>\n",
       "      <th>plataforma</th>\n",
       "      <th>plataforma_version</th>\n",
       "      <th>dispositivo</th>\n",
       "      <th>id_tipo_uso</th>\n",
       "    </tr>\n",
       "  </thead>\n",
       "  <tbody>\n",
       "    <tr>\n",
       "      <th>0</th>\n",
       "      <td>22782</td>\n",
       "      <td>26980</td>\n",
       "      <td>ios</td>\n",
       "      <td>10.2</td>\n",
       "      <td>iPhone7,2</td>\n",
       "      <td>2</td>\n",
       "    </tr>\n",
       "    <tr>\n",
       "      <th>1</th>\n",
       "      <td>22783</td>\n",
       "      <td>29628</td>\n",
       "      <td>android</td>\n",
       "      <td>6.0</td>\n",
       "      <td>Nexus 5</td>\n",
       "      <td>3</td>\n",
       "    </tr>\n",
       "    <tr>\n",
       "      <th>2</th>\n",
       "      <td>22784</td>\n",
       "      <td>28473</td>\n",
       "      <td>android</td>\n",
       "      <td>5.1</td>\n",
       "      <td>SM-G903F</td>\n",
       "      <td>1</td>\n",
       "    </tr>\n",
       "    <tr>\n",
       "      <th>3</th>\n",
       "      <td>22785</td>\n",
       "      <td>15200</td>\n",
       "      <td>ios</td>\n",
       "      <td>10.2</td>\n",
       "      <td>iPhone7,2</td>\n",
       "      <td>3</td>\n",
       "    </tr>\n",
       "    <tr>\n",
       "      <th>4</th>\n",
       "      <td>22786</td>\n",
       "      <td>28239</td>\n",
       "      <td>android</td>\n",
       "      <td>6.0</td>\n",
       "      <td>ONE E1003</td>\n",
       "      <td>1</td>\n",
       "    </tr>\n",
       "  </tbody>\n",
       "</table>\n",
       "</div>"
      ],
      "text/plain": [
       "   id_uso  id_usuario plataforma  plataforma_version dispositivo  id_tipo_uso\n",
       "0   22782       26980        ios                10.2   iPhone7,2            2\n",
       "1   22783       29628    android                 6.0     Nexus 5            3\n",
       "2   22784       28473    android                 5.1    SM-G903F            1\n",
       "3   22785       15200        ios                10.2   iPhone7,2            3\n",
       "4   22786       28239    android                 6.0   ONE E1003            1"
      ]
     },
     "execution_count": 30,
     "metadata": {},
     "output_type": "execute_result"
    }
   ],
   "source": [
    "user_device.head()"
   ]
  },
  {
   "cell_type": "code",
   "execution_count": 31,
   "id": "781cc416-9598-46c2-926b-0d3df7c7def2",
   "metadata": {},
   "outputs": [
    {
     "data": {
      "text/html": [
       "<div>\n",
       "<style scoped>\n",
       "    .dataframe tbody tr th:only-of-type {\n",
       "        vertical-align: middle;\n",
       "    }\n",
       "\n",
       "    .dataframe tbody tr th {\n",
       "        vertical-align: top;\n",
       "    }\n",
       "\n",
       "    .dataframe thead th {\n",
       "        text-align: right;\n",
       "    }\n",
       "</style>\n",
       "<table border=\"1\" class=\"dataframe\">\n",
       "  <thead>\n",
       "    <tr style=\"text-align: right;\">\n",
       "      <th></th>\n",
       "      <th>fabricante</th>\n",
       "      <th>Marketing Name</th>\n",
       "      <th>Dispositivo</th>\n",
       "      <th>Modelo</th>\n",
       "      <th>Unnamed: 4</th>\n",
       "      <th>Unnamed: 5</th>\n",
       "      <th>Unnamed: 6</th>\n",
       "      <th>Unnamed: 7</th>\n",
       "    </tr>\n",
       "  </thead>\n",
       "  <tbody>\n",
       "    <tr>\n",
       "      <th>0</th>\n",
       "      <td>NaN</td>\n",
       "      <td>NaN</td>\n",
       "      <td>AD681H</td>\n",
       "      <td>Smartfren Andromax AD681H</td>\n",
       "      <td>NaN</td>\n",
       "      <td>NaN</td>\n",
       "      <td>NaN</td>\n",
       "      <td>NaN</td>\n",
       "    </tr>\n",
       "    <tr>\n",
       "      <th>1</th>\n",
       "      <td>NaN</td>\n",
       "      <td>NaN</td>\n",
       "      <td>FJL21</td>\n",
       "      <td>FJL21</td>\n",
       "      <td>NaN</td>\n",
       "      <td>NaN</td>\n",
       "      <td>NaN</td>\n",
       "      <td>NaN</td>\n",
       "    </tr>\n",
       "    <tr>\n",
       "      <th>2</th>\n",
       "      <td>NaN</td>\n",
       "      <td>NaN</td>\n",
       "      <td>T31</td>\n",
       "      <td>Panasonic T31</td>\n",
       "      <td>NaN</td>\n",
       "      <td>NaN</td>\n",
       "      <td>NaN</td>\n",
       "      <td>NaN</td>\n",
       "    </tr>\n",
       "    <tr>\n",
       "      <th>3</th>\n",
       "      <td>NaN</td>\n",
       "      <td>NaN</td>\n",
       "      <td>hws7721g</td>\n",
       "      <td>MediaPad 7 Youth 2</td>\n",
       "      <td>NaN</td>\n",
       "      <td>NaN</td>\n",
       "      <td>NaN</td>\n",
       "      <td>NaN</td>\n",
       "    </tr>\n",
       "    <tr>\n",
       "      <th>4</th>\n",
       "      <td>3Q</td>\n",
       "      <td>OC1020A</td>\n",
       "      <td>OC1020A</td>\n",
       "      <td>OC1020A</td>\n",
       "      <td>NaN</td>\n",
       "      <td>NaN</td>\n",
       "      <td>NaN</td>\n",
       "      <td>NaN</td>\n",
       "    </tr>\n",
       "    <tr>\n",
       "      <th>5</th>\n",
       "      <td>7Eleven</td>\n",
       "      <td>IN265</td>\n",
       "      <td>IN265</td>\n",
       "      <td>IN265</td>\n",
       "      <td>NaN</td>\n",
       "      <td>NaN</td>\n",
       "      <td>NaN</td>\n",
       "      <td>NaN</td>\n",
       "    </tr>\n",
       "    <tr>\n",
       "      <th>6</th>\n",
       "      <td>A.O.I. ELECTRONICS FACTORY</td>\n",
       "      <td>A.O.I.</td>\n",
       "      <td>TR10CS1_11</td>\n",
       "      <td>TR10CS1</td>\n",
       "      <td>NaN</td>\n",
       "      <td>NaN</td>\n",
       "      <td>NaN</td>\n",
       "      <td>NaN</td>\n",
       "    </tr>\n",
       "    <tr>\n",
       "      <th>7</th>\n",
       "      <td>AG Mobile</td>\n",
       "      <td>AG BOOST 2</td>\n",
       "      <td>BOOST2</td>\n",
       "      <td>E4010</td>\n",
       "      <td>NaN</td>\n",
       "      <td>NaN</td>\n",
       "      <td>NaN</td>\n",
       "      <td>NaN</td>\n",
       "    </tr>\n",
       "    <tr>\n",
       "      <th>8</th>\n",
       "      <td>AG Mobile</td>\n",
       "      <td>AG Flair</td>\n",
       "      <td>AG_Flair</td>\n",
       "      <td>Flair</td>\n",
       "      <td>NaN</td>\n",
       "      <td>NaN</td>\n",
       "      <td>NaN</td>\n",
       "      <td>NaN</td>\n",
       "    </tr>\n",
       "    <tr>\n",
       "      <th>9</th>\n",
       "      <td>AG Mobile</td>\n",
       "      <td>AG Go Tab Access 2</td>\n",
       "      <td>AG_Go_Tab_Access_2</td>\n",
       "      <td>AG_Go_Tab_Access_2</td>\n",
       "      <td>NaN</td>\n",
       "      <td>NaN</td>\n",
       "      <td>NaN</td>\n",
       "      <td>NaN</td>\n",
       "    </tr>\n",
       "  </tbody>\n",
       "</table>\n",
       "</div>"
      ],
      "text/plain": [
       "                   fabricante      Marketing Name         Dispositivo  \\\n",
       "0                         NaN                 NaN              AD681H   \n",
       "1                         NaN                 NaN               FJL21   \n",
       "2                         NaN                 NaN                 T31   \n",
       "3                         NaN                 NaN            hws7721g   \n",
       "4                          3Q             OC1020A             OC1020A   \n",
       "5                     7Eleven               IN265               IN265   \n",
       "6  A.O.I. ELECTRONICS FACTORY              A.O.I.          TR10CS1_11   \n",
       "7                   AG Mobile          AG BOOST 2              BOOST2   \n",
       "8                   AG Mobile            AG Flair            AG_Flair   \n",
       "9                   AG Mobile  AG Go Tab Access 2  AG_Go_Tab_Access_2   \n",
       "\n",
       "                      Modelo Unnamed: 4 Unnamed: 5 Unnamed: 6 Unnamed: 7  \n",
       "0  Smartfren Andromax AD681H        NaN        NaN        NaN        NaN  \n",
       "1                      FJL21        NaN        NaN        NaN        NaN  \n",
       "2              Panasonic T31        NaN        NaN        NaN        NaN  \n",
       "3         MediaPad 7 Youth 2        NaN        NaN        NaN        NaN  \n",
       "4                    OC1020A        NaN        NaN        NaN        NaN  \n",
       "5                      IN265        NaN        NaN        NaN        NaN  \n",
       "6                    TR10CS1        NaN        NaN        NaN        NaN  \n",
       "7                      E4010        NaN        NaN        NaN        NaN  \n",
       "8                      Flair        NaN        NaN        NaN        NaN  \n",
       "9         AG_Go_Tab_Access_2        NaN        NaN        NaN        NaN  "
      ]
     },
     "execution_count": 31,
     "metadata": {},
     "output_type": "execute_result"
    }
   ],
   "source": [
    "devices.head(10)"
   ]
  },
  {
   "cell_type": "markdown",
   "id": "f802ca41-3eee-4bd9-a771-6dab6cab602e",
   "metadata": {},
   "source": [
    "### Primer Merge"
   ]
  },
  {
   "cell_type": "markdown",
   "id": "429bb1ce-b8ed-469a-b9ac-c81cd5f2563f",
   "metadata": {},
   "source": [
    "Intentemos analizar que consumos existen para cada tipo de dispositivo diferente. Para esto necesitamos realcionar mediante el código de usuario `id_uso` las tablas `user_usage` y `user_device`."
   ]
  },
  {
   "cell_type": "code",
   "execution_count": 32,
   "id": "1c39ee45-d4e0-4b7f-be16-af1dbc7ae4c0",
   "metadata": {},
   "outputs": [
    {
     "data": {
      "text/html": [
       "<div>\n",
       "<style scoped>\n",
       "    .dataframe tbody tr th:only-of-type {\n",
       "        vertical-align: middle;\n",
       "    }\n",
       "\n",
       "    .dataframe tbody tr th {\n",
       "        vertical-align: top;\n",
       "    }\n",
       "\n",
       "    .dataframe thead th {\n",
       "        text-align: right;\n",
       "    }\n",
       "</style>\n",
       "<table border=\"1\" class=\"dataframe\">\n",
       "  <thead>\n",
       "    <tr style=\"text-align: right;\">\n",
       "      <th></th>\n",
       "      <th>min_saliente_mes</th>\n",
       "      <th>sms_saliente_mes</th>\n",
       "      <th>data_mb_mes</th>\n",
       "      <th>id_uso</th>\n",
       "      <th>plataforma</th>\n",
       "      <th>dispositivo</th>\n",
       "    </tr>\n",
       "  </thead>\n",
       "  <tbody>\n",
       "    <tr>\n",
       "      <th>0</th>\n",
       "      <td>21.97</td>\n",
       "      <td>4.82</td>\n",
       "      <td>1557.33</td>\n",
       "      <td>22787</td>\n",
       "      <td>android</td>\n",
       "      <td>GT-I9505</td>\n",
       "    </tr>\n",
       "    <tr>\n",
       "      <th>1</th>\n",
       "      <td>1710.08</td>\n",
       "      <td>136.88</td>\n",
       "      <td>7267.55</td>\n",
       "      <td>22788</td>\n",
       "      <td>android</td>\n",
       "      <td>SM-G930F</td>\n",
       "    </tr>\n",
       "    <tr>\n",
       "      <th>2</th>\n",
       "      <td>1710.08</td>\n",
       "      <td>136.88</td>\n",
       "      <td>7267.55</td>\n",
       "      <td>22789</td>\n",
       "      <td>android</td>\n",
       "      <td>SM-G930F</td>\n",
       "    </tr>\n",
       "    <tr>\n",
       "      <th>3</th>\n",
       "      <td>94.46</td>\n",
       "      <td>35.17</td>\n",
       "      <td>519.12</td>\n",
       "      <td>22790</td>\n",
       "      <td>android</td>\n",
       "      <td>D2303</td>\n",
       "    </tr>\n",
       "    <tr>\n",
       "      <th>4</th>\n",
       "      <td>71.59</td>\n",
       "      <td>79.26</td>\n",
       "      <td>1557.33</td>\n",
       "      <td>22792</td>\n",
       "      <td>android</td>\n",
       "      <td>SM-G361F</td>\n",
       "    </tr>\n",
       "  </tbody>\n",
       "</table>\n",
       "</div>"
      ],
      "text/plain": [
       "   min_saliente_mes  sms_saliente_mes  data_mb_mes  id_uso plataforma  \\\n",
       "0             21.97              4.82      1557.33   22787    android   \n",
       "1           1710.08            136.88      7267.55   22788    android   \n",
       "2           1710.08            136.88      7267.55   22789    android   \n",
       "3             94.46             35.17       519.12   22790    android   \n",
       "4             71.59             79.26      1557.33   22792    android   \n",
       "\n",
       "  dispositivo  \n",
       "0    GT-I9505  \n",
       "1    SM-G930F  \n",
       "2    SM-G930F  \n",
       "3       D2303  \n",
       "4    SM-G361F  "
      ]
     },
     "execution_count": 32,
     "metadata": {},
     "output_type": "execute_result"
    }
   ],
   "source": [
    "result = pd.merge(user_usage,\n",
    "                 user_device[['id_uso','plataforma','dispositivo']],\n",
    "                 on='id_uso')\n",
    "result.head()"
   ]
  },
  {
   "cell_type": "markdown",
   "id": "f1988890-174f-4230-a61c-293cfb61d628",
   "metadata": {},
   "source": [
    "En este merge se pueden ver los datos de ambas tablas, unidos por la columna `id_uso`.\n",
    "Analicemos en profundidad que es lo que sucedió durante el merge."
   ]
  },
  {
   "cell_type": "code",
   "execution_count": 33,
   "id": "23128aa5-5472-44b4-a7fa-2b7fdeb67e46",
   "metadata": {},
   "outputs": [
    {
     "name": "stdout",
     "output_type": "stream",
     "text": [
      "user_usage dimensions:(240, 4)\n",
      "user_device dimensions: (272, 3)\n"
     ]
    }
   ],
   "source": [
    "print(\"user_usage dimensions:{}\".format(user_usage.shape))\n",
    "print(\"user_device dimensions: {}\".format(user_device[['id_uso','plataforma','dispositivo']].shape))"
   ]
  },
  {
   "cell_type": "code",
   "execution_count": 34,
   "id": "cb281c33-1372-4309-81b0-b3cb794561db",
   "metadata": {},
   "outputs": [
    {
     "data": {
      "text/plain": [
       "id_uso\n",
       "True     159\n",
       "False     81\n",
       "Name: count, dtype: int64"
      ]
     },
     "execution_count": 34,
     "metadata": {},
     "output_type": "execute_result"
    }
   ],
   "source": [
    "# Si nos paramos en la primer tabla y vemos cuantas id_uso están presentes en el segundo DF\n",
    "user_usage['id_uso'].isin(user_device['id_uso']).value_counts()"
   ]
  },
  {
   "cell_type": "markdown",
   "id": "84d5e41e-9c00-4072-aa92-fa6c133071c6",
   "metadata": {},
   "source": [
    "Vemos que la cantidad de datos no es la misma. Esto se debe a que se realizó un `inner join`. Esto significa que las **claves** que no se encuentran en ambas tablas, se descartan."
   ]
  },
  {
   "cell_type": "code",
   "execution_count": 35,
   "id": "2784b2dc-9284-48ad-a9a9-caaa3ab40a10",
   "metadata": {},
   "outputs": [
    {
     "data": {
      "text/plain": [
       "(159, 6)"
      ]
     },
     "execution_count": 35,
     "metadata": {},
     "output_type": "execute_result"
    }
   ],
   "source": [
    "result.shape"
   ]
  },
  {
   "cell_type": "markdown",
   "id": "9ad38be2-5089-4e55-93b9-489b402260aa",
   "metadata": {},
   "source": [
    "#### Ejemplo Left Merge"
   ]
  },
  {
   "cell_type": "markdown",
   "id": "5745e8de-f6bc-4e9e-bd31-2edc1bd5c9d4",
   "metadata": {},
   "source": [
    "El `left merge` o `left join` permite que se conserven todas las filas de uno de los 2 `DataFrames`.\n",
    "En este caso, la tabla de la izquierda es la que se llama al método `merge` y la tabla de la derecha (`right`) es la que se utiliza como argumento de la función.\n",
    "En este caso, `left=user_usage` y `right=user_device`.\n",
    "Aplicando un left join, las columnas de la tabla derecha contendra `NaN` en todas las filas correspondientes a claves que no tienen su par en ambas tablas."
   ]
  },
  {
   "cell_type": "code",
   "execution_count": 72,
   "id": "2cd9b8e6-8076-4605-916b-2a62263ea936",
   "metadata": {},
   "outputs": [
    {
     "name": "stdout",
     "output_type": "stream",
     "text": [
      "user_usage dimensions: (240, 4)\n",
      "result dimensions: (240, 6)\n",
      " Hay 81 valores faltantes en el resultado.\n"
     ]
    }
   ],
   "source": [
    "result = pd.merge(user_usage, \n",
    "                  user_device[['id_uso', 'plataforma', 'dispositivo']],\n",
    "                  on = 'id_uso', how = 'left')\n",
    "\n",
    "print(\"user_usage dimensions: {}\".format(user_usage.shape))\n",
    "print(\"result dimensions: {}\".format(result.shape))\n",
    "\n",
    "print(\" Hay {} valores faltantes en el resultado.\".format(result['dispositivo'].isnull().sum()))"
   ]
  },
  {
   "cell_type": "code",
   "execution_count": 70,
   "id": "d3fdfcc3-6d2f-4dc1-9380-c9b704eb141d",
   "metadata": {},
   "outputs": [
    {
     "data": {
      "text/html": [
       "<div>\n",
       "<style scoped>\n",
       "    .dataframe tbody tr th:only-of-type {\n",
       "        vertical-align: middle;\n",
       "    }\n",
       "\n",
       "    .dataframe tbody tr th {\n",
       "        vertical-align: top;\n",
       "    }\n",
       "\n",
       "    .dataframe thead th {\n",
       "        text-align: right;\n",
       "    }\n",
       "</style>\n",
       "<table border=\"1\" class=\"dataframe\">\n",
       "  <thead>\n",
       "    <tr style=\"text-align: right;\">\n",
       "      <th></th>\n",
       "      <th>min_saliente_mes</th>\n",
       "      <th>sms_saliente_mes</th>\n",
       "      <th>data_mb_mes</th>\n",
       "      <th>id_uso</th>\n",
       "      <th>plataforma</th>\n",
       "      <th>dispositivo</th>\n",
       "    </tr>\n",
       "  </thead>\n",
       "  <tbody>\n",
       "    <tr>\n",
       "      <th>0</th>\n",
       "      <td>21.97</td>\n",
       "      <td>4.82</td>\n",
       "      <td>1557.33</td>\n",
       "      <td>22787</td>\n",
       "      <td>android</td>\n",
       "      <td>GT-I9505</td>\n",
       "    </tr>\n",
       "    <tr>\n",
       "      <th>1</th>\n",
       "      <td>1710.08</td>\n",
       "      <td>136.88</td>\n",
       "      <td>7267.55</td>\n",
       "      <td>22788</td>\n",
       "      <td>android</td>\n",
       "      <td>SM-G930F</td>\n",
       "    </tr>\n",
       "    <tr>\n",
       "      <th>2</th>\n",
       "      <td>1710.08</td>\n",
       "      <td>136.88</td>\n",
       "      <td>7267.55</td>\n",
       "      <td>22789</td>\n",
       "      <td>android</td>\n",
       "      <td>SM-G930F</td>\n",
       "    </tr>\n",
       "    <tr>\n",
       "      <th>3</th>\n",
       "      <td>94.46</td>\n",
       "      <td>35.17</td>\n",
       "      <td>519.12</td>\n",
       "      <td>22790</td>\n",
       "      <td>android</td>\n",
       "      <td>D2303</td>\n",
       "    </tr>\n",
       "    <tr>\n",
       "      <th>4</th>\n",
       "      <td>71.59</td>\n",
       "      <td>79.26</td>\n",
       "      <td>1557.33</td>\n",
       "      <td>22792</td>\n",
       "      <td>android</td>\n",
       "      <td>SM-G361F</td>\n",
       "    </tr>\n",
       "  </tbody>\n",
       "</table>\n",
       "</div>"
      ],
      "text/plain": [
       "   min_saliente_mes  sms_saliente_mes  data_mb_mes  id_uso plataforma  \\\n",
       "0             21.97              4.82      1557.33   22787    android   \n",
       "1           1710.08            136.88      7267.55   22788    android   \n",
       "2           1710.08            136.88      7267.55   22789    android   \n",
       "3             94.46             35.17       519.12   22790    android   \n",
       "4             71.59             79.26      1557.33   22792    android   \n",
       "\n",
       "  dispositivo  \n",
       "0    GT-I9505  \n",
       "1    SM-G930F  \n",
       "2    SM-G930F  \n",
       "3       D2303  \n",
       "4    SM-G361F  "
      ]
     },
     "execution_count": 70,
     "metadata": {},
     "output_type": "execute_result"
    }
   ],
   "source": [
    "# Veo una muestra del resultado\n",
    "result.head()"
   ]
  },
  {
   "cell_type": "code",
   "execution_count": 71,
   "id": "3bb41c56-2f37-4134-b4c1-1d5fd774da0c",
   "metadata": {
    "scrolled": true
   },
   "outputs": [
    {
     "data": {
      "text/html": [
       "<div>\n",
       "<style scoped>\n",
       "    .dataframe tbody tr th:only-of-type {\n",
       "        vertical-align: middle;\n",
       "    }\n",
       "\n",
       "    .dataframe tbody tr th {\n",
       "        vertical-align: top;\n",
       "    }\n",
       "\n",
       "    .dataframe thead th {\n",
       "        text-align: right;\n",
       "    }\n",
       "</style>\n",
       "<table border=\"1\" class=\"dataframe\">\n",
       "  <thead>\n",
       "    <tr style=\"text-align: right;\">\n",
       "      <th></th>\n",
       "      <th>min_saliente_mes</th>\n",
       "      <th>sms_saliente_mes</th>\n",
       "      <th>data_mb_mes</th>\n",
       "      <th>id_uso</th>\n",
       "      <th>plataforma</th>\n",
       "      <th>dispositivo</th>\n",
       "    </tr>\n",
       "  </thead>\n",
       "  <tbody>\n",
       "    <tr>\n",
       "      <th>235</th>\n",
       "      <td>260.66</td>\n",
       "      <td>68.44</td>\n",
       "      <td>896.96</td>\n",
       "      <td>25008</td>\n",
       "      <td>NaN</td>\n",
       "      <td>NaN</td>\n",
       "    </tr>\n",
       "    <tr>\n",
       "      <th>236</th>\n",
       "      <td>97.12</td>\n",
       "      <td>36.50</td>\n",
       "      <td>2815.00</td>\n",
       "      <td>25040</td>\n",
       "      <td>NaN</td>\n",
       "      <td>NaN</td>\n",
       "    </tr>\n",
       "    <tr>\n",
       "      <th>237</th>\n",
       "      <td>355.93</td>\n",
       "      <td>12.37</td>\n",
       "      <td>6828.09</td>\n",
       "      <td>25046</td>\n",
       "      <td>NaN</td>\n",
       "      <td>NaN</td>\n",
       "    </tr>\n",
       "    <tr>\n",
       "      <th>238</th>\n",
       "      <td>632.06</td>\n",
       "      <td>120.46</td>\n",
       "      <td>1453.16</td>\n",
       "      <td>25058</td>\n",
       "      <td>NaN</td>\n",
       "      <td>NaN</td>\n",
       "    </tr>\n",
       "    <tr>\n",
       "      <th>239</th>\n",
       "      <td>488.70</td>\n",
       "      <td>906.92</td>\n",
       "      <td>3089.85</td>\n",
       "      <td>25220</td>\n",
       "      <td>NaN</td>\n",
       "      <td>NaN</td>\n",
       "    </tr>\n",
       "  </tbody>\n",
       "</table>\n",
       "</div>"
      ],
      "text/plain": [
       "     min_saliente_mes  sms_saliente_mes  data_mb_mes  id_uso plataforma  \\\n",
       "235            260.66             68.44       896.96   25008        NaN   \n",
       "236             97.12             36.50      2815.00   25040        NaN   \n",
       "237            355.93             12.37      6828.09   25046        NaN   \n",
       "238            632.06            120.46      1453.16   25058        NaN   \n",
       "239            488.70            906.92      3089.85   25220        NaN   \n",
       "\n",
       "    dispositivo  \n",
       "235         NaN  \n",
       "236         NaN  \n",
       "237         NaN  \n",
       "238         NaN  \n",
       "239         NaN  "
      ]
     },
     "execution_count": 71,
     "metadata": {},
     "output_type": "execute_result"
    }
   ],
   "source": [
    "result.tail()"
   ]
  },
  {
   "cell_type": "markdown",
   "id": "91f834ff-2f38-407c-b9af-3132c65373ea",
   "metadata": {},
   "source": [
    "#### Ejemplo Right merge\n",
    "\n",
    "El `right merge` o `right join` entre 2 `DataFrames` mantiene todas las filas correspondientes al `DataFrame` de la derecha, mientras que las columnas de la tabla izquierda de los registros que se encuentren en la tabla derecha, pero no en la izquierda, se completaran con `NaN`."
   ]
  },
  {
   "cell_type": "code",
   "execution_count": 36,
   "id": "e469aafa-8613-416a-993f-be0ef99c2fba",
   "metadata": {},
   "outputs": [
    {
     "name": "stdout",
     "output_type": "stream",
     "text": [
      "user_device dimensions: (272, 6)\n",
      "result dimensions: (272, 6)\n",
      "Hay 113 valores faltantes en la columna 'data_mb_mes' del resultado.\n",
      "Hay 0 valores faltantes en la columna 'plataforma' del resultado.\n"
     ]
    }
   ],
   "source": [
    "result = pd.merge(user_usage,\n",
    "                 user_device[['id_uso', 'plataforma', 'dispositivo']],\n",
    "                 on='id_uso', how='right')\n",
    "\n",
    "print(\"user_device dimensions: {}\".format(user_device.shape))\n",
    "print(\"result dimensions: {}\".format(result.shape))\n",
    "print(\"Hay {} valores faltantes en la columna 'data_mb_mes' del resultado.\".format(\n",
    "        result['data_mb_mes'].isnull().sum()))\n",
    "print(\"Hay {} valores faltantes en la columna 'plataforma' del resultado.\".format(\n",
    "        result['plataforma'].isnull().sum()))"
   ]
  },
  {
   "cell_type": "markdown",
   "id": "26805332-8820-428c-bc49-4d20dc33697b",
   "metadata": {},
   "source": [
    "#### Ejemplo Outer merge"
   ]
  },
  {
   "cell_type": "markdown",
   "id": "7ec41423-421c-4838-ad1c-2978048461e6",
   "metadata": {},
   "source": [
    "Un `full outer join` o `outer merge` mantiene todos los registros de ambos `DataFrames` en el resultado.\n",
    "Las filas se alinearan en donde se compartan claves, y el resto de los registros tendran nulos en las columnas del `DataFrame` que corresponda.\n",
    "\n",
    "En el resultado final, un subset de filas no tendran valores faltantes. Estos registros, que encontraron un match en la clave del otro `DataFrame` corresponden al resultado obrenido en el `inner merge`."
   ]
  },
  {
   "cell_type": "code",
   "execution_count": 80,
   "id": "5e1323c5-fe09-4f3b-8e0c-213d2c173da6",
   "metadata": {},
   "outputs": [
    {
     "name": "stdout",
     "output_type": "stream",
     "text": [
      "Hay 353 valores únicos para ese id_uso en los DataFrames\n",
      "El outer merge tiene (353, 7) registros\n",
      "Hay 0 filas sin valores faltantes\n"
     ]
    }
   ],
   "source": [
    "print(\"Hay {} valores únicos para ese id_uso en los DataFrames\".format(\n",
    "    pd.concat([user_usage['id_uso'],user_device['id_uso']]).unique().shape[0]))\n",
    "\n",
    "result = pd.merge(user_usage,\n",
    "                 user_device[['id_uso','plataforma','dispositivo']],\n",
    "                 on='id_uso',how='outer',indicator=True)\n",
    "\n",
    "print(\"El outer merge tiene {} registros\".format(result.shape))\n",
    "\n",
    "print(\"Hay {} filas sin valores faltantes\".format(\n",
    "    (result.apply(lambda x:x.isnull().sum,axis=1)==0).sum()))"
   ]
  },
  {
   "cell_type": "markdown",
   "id": "a71c72f0-7d27-4436-ae94-391c6c9a5486",
   "metadata": {},
   "source": [
    "A continuación se muestra una imagen que representa los distintos `joins` mediante diagramas de Venn."
   ]
  },
  {
   "attachments": {},
   "cell_type": "markdown",
   "id": "e61b1ec1-6350-4345-9f25-bc6de44022ac",
   "metadata": {},
   "source": [
    "<img src=\"clase 11/joins.jpg\" width=\"500\">\n"
   ]
  },
  {
   "cell_type": "markdown",
   "id": "9d7e2f45-a8f3-4f04-8ecf-ef72b90c6c2d",
   "metadata": {},
   "source": [
    "#### Merge Final - sumarizando productores de dispositivos"
   ]
  },
  {
   "cell_type": "code",
   "execution_count": 38,
   "id": "1213e9b5-979f-4c04-a6e9-2dc7cc011949",
   "metadata": {},
   "outputs": [],
   "source": [
    "# First, add the platform and device to the user usage.\n",
    "result = pd.merge(user_usage,\n",
    "                 user_device[['id_uso', 'plataforma', 'dispositivo']],\n",
    "                 on='id_uso',\n",
    "                 how='left')"
   ]
  },
  {
   "cell_type": "code",
   "execution_count": 39,
   "id": "84e2f04f-d17f-47a2-89ae-63abb98f4b9c",
   "metadata": {},
   "outputs": [
    {
     "data": {
      "text/html": [
       "<div>\n",
       "<style scoped>\n",
       "    .dataframe tbody tr th:only-of-type {\n",
       "        vertical-align: middle;\n",
       "    }\n",
       "\n",
       "    .dataframe tbody tr th {\n",
       "        vertical-align: top;\n",
       "    }\n",
       "\n",
       "    .dataframe thead th {\n",
       "        text-align: right;\n",
       "    }\n",
       "</style>\n",
       "<table border=\"1\" class=\"dataframe\">\n",
       "  <thead>\n",
       "    <tr style=\"text-align: right;\">\n",
       "      <th></th>\n",
       "      <th>min_saliente_mes</th>\n",
       "      <th>sms_saliente_mes</th>\n",
       "      <th>data_mb_mes</th>\n",
       "      <th>id_uso</th>\n",
       "      <th>plataforma</th>\n",
       "      <th>dispositivo</th>\n",
       "    </tr>\n",
       "  </thead>\n",
       "  <tbody>\n",
       "    <tr>\n",
       "      <th>0</th>\n",
       "      <td>21.97</td>\n",
       "      <td>4.82</td>\n",
       "      <td>1557.33</td>\n",
       "      <td>22787</td>\n",
       "      <td>android</td>\n",
       "      <td>GT-I9505</td>\n",
       "    </tr>\n",
       "    <tr>\n",
       "      <th>1</th>\n",
       "      <td>1710.08</td>\n",
       "      <td>136.88</td>\n",
       "      <td>7267.55</td>\n",
       "      <td>22788</td>\n",
       "      <td>android</td>\n",
       "      <td>SM-G930F</td>\n",
       "    </tr>\n",
       "    <tr>\n",
       "      <th>2</th>\n",
       "      <td>1710.08</td>\n",
       "      <td>136.88</td>\n",
       "      <td>7267.55</td>\n",
       "      <td>22789</td>\n",
       "      <td>android</td>\n",
       "      <td>SM-G930F</td>\n",
       "    </tr>\n",
       "    <tr>\n",
       "      <th>3</th>\n",
       "      <td>94.46</td>\n",
       "      <td>35.17</td>\n",
       "      <td>519.12</td>\n",
       "      <td>22790</td>\n",
       "      <td>android</td>\n",
       "      <td>D2303</td>\n",
       "    </tr>\n",
       "    <tr>\n",
       "      <th>4</th>\n",
       "      <td>71.59</td>\n",
       "      <td>79.26</td>\n",
       "      <td>1557.33</td>\n",
       "      <td>22792</td>\n",
       "      <td>android</td>\n",
       "      <td>SM-G361F</td>\n",
       "    </tr>\n",
       "    <tr>\n",
       "      <th>...</th>\n",
       "      <td>...</td>\n",
       "      <td>...</td>\n",
       "      <td>...</td>\n",
       "      <td>...</td>\n",
       "      <td>...</td>\n",
       "      <td>...</td>\n",
       "    </tr>\n",
       "    <tr>\n",
       "      <th>235</th>\n",
       "      <td>260.66</td>\n",
       "      <td>68.44</td>\n",
       "      <td>896.96</td>\n",
       "      <td>25008</td>\n",
       "      <td>NaN</td>\n",
       "      <td>NaN</td>\n",
       "    </tr>\n",
       "    <tr>\n",
       "      <th>236</th>\n",
       "      <td>97.12</td>\n",
       "      <td>36.50</td>\n",
       "      <td>2815.00</td>\n",
       "      <td>25040</td>\n",
       "      <td>NaN</td>\n",
       "      <td>NaN</td>\n",
       "    </tr>\n",
       "    <tr>\n",
       "      <th>237</th>\n",
       "      <td>355.93</td>\n",
       "      <td>12.37</td>\n",
       "      <td>6828.09</td>\n",
       "      <td>25046</td>\n",
       "      <td>NaN</td>\n",
       "      <td>NaN</td>\n",
       "    </tr>\n",
       "    <tr>\n",
       "      <th>238</th>\n",
       "      <td>632.06</td>\n",
       "      <td>120.46</td>\n",
       "      <td>1453.16</td>\n",
       "      <td>25058</td>\n",
       "      <td>NaN</td>\n",
       "      <td>NaN</td>\n",
       "    </tr>\n",
       "    <tr>\n",
       "      <th>239</th>\n",
       "      <td>488.70</td>\n",
       "      <td>906.92</td>\n",
       "      <td>3089.85</td>\n",
       "      <td>25220</td>\n",
       "      <td>NaN</td>\n",
       "      <td>NaN</td>\n",
       "    </tr>\n",
       "  </tbody>\n",
       "</table>\n",
       "<p>240 rows × 6 columns</p>\n",
       "</div>"
      ],
      "text/plain": [
       "     min_saliente_mes  sms_saliente_mes  data_mb_mes  id_uso plataforma  \\\n",
       "0               21.97              4.82      1557.33   22787    android   \n",
       "1             1710.08            136.88      7267.55   22788    android   \n",
       "2             1710.08            136.88      7267.55   22789    android   \n",
       "3               94.46             35.17       519.12   22790    android   \n",
       "4               71.59             79.26      1557.33   22792    android   \n",
       "..                ...               ...          ...     ...        ...   \n",
       "235            260.66             68.44       896.96   25008        NaN   \n",
       "236             97.12             36.50      2815.00   25040        NaN   \n",
       "237            355.93             12.37      6828.09   25046        NaN   \n",
       "238            632.06            120.46      1453.16   25058        NaN   \n",
       "239            488.70            906.92      3089.85   25220        NaN   \n",
       "\n",
       "    dispositivo  \n",
       "0      GT-I9505  \n",
       "1      SM-G930F  \n",
       "2      SM-G930F  \n",
       "3         D2303  \n",
       "4      SM-G361F  \n",
       "..          ...  \n",
       "235         NaN  \n",
       "236         NaN  \n",
       "237         NaN  \n",
       "238         NaN  \n",
       "239         NaN  \n",
       "\n",
       "[240 rows x 6 columns]"
      ]
     },
     "execution_count": 39,
     "metadata": {},
     "output_type": "execute_result"
    }
   ],
   "source": [
    "result"
   ]
  },
  {
   "cell_type": "code",
   "execution_count": 41,
   "id": "3bd45bc0-24d5-4536-9a49-25b127a182c2",
   "metadata": {},
   "outputs": [
    {
     "data": {
      "text/html": [
       "<div>\n",
       "<style scoped>\n",
       "    .dataframe tbody tr th:only-of-type {\n",
       "        vertical-align: middle;\n",
       "    }\n",
       "\n",
       "    .dataframe tbody tr th {\n",
       "        vertical-align: top;\n",
       "    }\n",
       "\n",
       "    .dataframe thead th {\n",
       "        text-align: right;\n",
       "    }\n",
       "</style>\n",
       "<table border=\"1\" class=\"dataframe\">\n",
       "  <thead>\n",
       "    <tr style=\"text-align: right;\">\n",
       "      <th></th>\n",
       "      <th>fabricante</th>\n",
       "      <th>Marketing Name</th>\n",
       "      <th>Dispositivo</th>\n",
       "      <th>Modelo</th>\n",
       "      <th>Unnamed: 4</th>\n",
       "      <th>Unnamed: 5</th>\n",
       "      <th>Unnamed: 6</th>\n",
       "      <th>Unnamed: 7</th>\n",
       "    </tr>\n",
       "  </thead>\n",
       "  <tbody>\n",
       "    <tr>\n",
       "      <th>8135</th>\n",
       "      <td>Oppo</td>\n",
       "      <td>A1603</td>\n",
       "      <td>A1603</td>\n",
       "      <td>A1603</td>\n",
       "      <td>NaN</td>\n",
       "      <td>NaN</td>\n",
       "      <td>NaN</td>\n",
       "      <td>NaN</td>\n",
       "    </tr>\n",
       "    <tr>\n",
       "      <th>10863</th>\n",
       "      <td>Samsung</td>\n",
       "      <td>ProXpress M4580</td>\n",
       "      <td>fiber-athena</td>\n",
       "      <td>samsung-printer-tablet</td>\n",
       "      <td>NaN</td>\n",
       "      <td>NaN</td>\n",
       "      <td>NaN</td>\n",
       "      <td>NaN</td>\n",
       "    </tr>\n",
       "    <tr>\n",
       "      <th>5582</th>\n",
       "      <td>LGE</td>\n",
       "      <td>LG F70</td>\n",
       "      <td>f70n</td>\n",
       "      <td>LG-F370S</td>\n",
       "      <td>NaN</td>\n",
       "      <td>NaN</td>\n",
       "      <td>NaN</td>\n",
       "      <td>NaN</td>\n",
       "    </tr>\n",
       "  </tbody>\n",
       "</table>\n",
       "</div>"
      ],
      "text/plain": [
       "      fabricante   Marketing Name   Dispositivo                  Modelo  \\\n",
       "8135        Oppo            A1603         A1603                   A1603   \n",
       "10863    Samsung  ProXpress M4580  fiber-athena  samsung-printer-tablet   \n",
       "5582         LGE           LG F70          f70n                LG-F370S   \n",
       "\n",
       "      Unnamed: 4 Unnamed: 5 Unnamed: 6 Unnamed: 7  \n",
       "8135         NaN        NaN        NaN        NaN  \n",
       "10863        NaN        NaN        NaN        NaN  \n",
       "5582         NaN        NaN        NaN        NaN  "
      ]
     },
     "execution_count": 41,
     "metadata": {},
     "output_type": "execute_result"
    }
   ],
   "source": [
    "devices.sample(3)"
   ]
  },
  {
   "cell_type": "code",
   "execution_count": 42,
   "id": "1992d5f0-5c78-4708-8c2a-a9bfdfb53fb3",
   "metadata": {},
   "outputs": [
    {
     "data": {
      "text/html": [
       "<div>\n",
       "<style scoped>\n",
       "    .dataframe tbody tr th:only-of-type {\n",
       "        vertical-align: middle;\n",
       "    }\n",
       "\n",
       "    .dataframe tbody tr th {\n",
       "        vertical-align: top;\n",
       "    }\n",
       "\n",
       "    .dataframe thead th {\n",
       "        text-align: right;\n",
       "    }\n",
       "</style>\n",
       "<table border=\"1\" class=\"dataframe\">\n",
       "  <thead>\n",
       "    <tr style=\"text-align: right;\">\n",
       "      <th></th>\n",
       "      <th>min_saliente_mes</th>\n",
       "      <th>sms_saliente_mes</th>\n",
       "      <th>data_mb_mes</th>\n",
       "      <th>id_uso</th>\n",
       "      <th>plataforma</th>\n",
       "      <th>dispositivo</th>\n",
       "      <th>fabricante_x</th>\n",
       "      <th>Modelo_x</th>\n",
       "      <th>fabricante_y</th>\n",
       "      <th>Modelo_y</th>\n",
       "    </tr>\n",
       "  </thead>\n",
       "  <tbody>\n",
       "    <tr>\n",
       "      <th>0</th>\n",
       "      <td>21.97</td>\n",
       "      <td>4.82</td>\n",
       "      <td>1557.33</td>\n",
       "      <td>22787</td>\n",
       "      <td>android</td>\n",
       "      <td>GT-I9505</td>\n",
       "      <td>Samsung</td>\n",
       "      <td>GT-I9505</td>\n",
       "      <td>Samsung</td>\n",
       "      <td>GT-I9505</td>\n",
       "    </tr>\n",
       "    <tr>\n",
       "      <th>1</th>\n",
       "      <td>1710.08</td>\n",
       "      <td>136.88</td>\n",
       "      <td>7267.55</td>\n",
       "      <td>22788</td>\n",
       "      <td>android</td>\n",
       "      <td>SM-G930F</td>\n",
       "      <td>Samsung</td>\n",
       "      <td>SM-G930F</td>\n",
       "      <td>Samsung</td>\n",
       "      <td>SM-G930F</td>\n",
       "    </tr>\n",
       "    <tr>\n",
       "      <th>2</th>\n",
       "      <td>1710.08</td>\n",
       "      <td>136.88</td>\n",
       "      <td>7267.55</td>\n",
       "      <td>22789</td>\n",
       "      <td>android</td>\n",
       "      <td>SM-G930F</td>\n",
       "      <td>Samsung</td>\n",
       "      <td>SM-G930F</td>\n",
       "      <td>Samsung</td>\n",
       "      <td>SM-G930F</td>\n",
       "    </tr>\n",
       "    <tr>\n",
       "      <th>3</th>\n",
       "      <td>94.46</td>\n",
       "      <td>35.17</td>\n",
       "      <td>519.12</td>\n",
       "      <td>22790</td>\n",
       "      <td>android</td>\n",
       "      <td>D2303</td>\n",
       "      <td>Sony</td>\n",
       "      <td>D2303</td>\n",
       "      <td>Sony</td>\n",
       "      <td>D2303</td>\n",
       "    </tr>\n",
       "    <tr>\n",
       "      <th>4</th>\n",
       "      <td>71.59</td>\n",
       "      <td>79.26</td>\n",
       "      <td>1557.33</td>\n",
       "      <td>22792</td>\n",
       "      <td>android</td>\n",
       "      <td>SM-G361F</td>\n",
       "      <td>Samsung</td>\n",
       "      <td>SM-G361F</td>\n",
       "      <td>Samsung</td>\n",
       "      <td>SM-G361F</td>\n",
       "    </tr>\n",
       "  </tbody>\n",
       "</table>\n",
       "</div>"
      ],
      "text/plain": [
       "   min_saliente_mes  sms_saliente_mes  data_mb_mes  id_uso plataforma  \\\n",
       "0             21.97              4.82      1557.33   22787    android   \n",
       "1           1710.08            136.88      7267.55   22788    android   \n",
       "2           1710.08            136.88      7267.55   22789    android   \n",
       "3             94.46             35.17       519.12   22790    android   \n",
       "4             71.59             79.26      1557.33   22792    android   \n",
       "\n",
       "  dispositivo fabricante_x  Modelo_x fabricante_y  Modelo_y  \n",
       "0    GT-I9505      Samsung  GT-I9505      Samsung  GT-I9505  \n",
       "1    SM-G930F      Samsung  SM-G930F      Samsung  SM-G930F  \n",
       "2    SM-G930F      Samsung  SM-G930F      Samsung  SM-G930F  \n",
       "3       D2303         Sony     D2303         Sony     D2303  \n",
       "4    SM-G361F      Samsung  SM-G361F      Samsung  SM-G361F  "
      ]
     },
     "execution_count": 42,
     "metadata": {},
     "output_type": "execute_result"
    }
   ],
   "source": [
    "# Dispositivo y modelo tienen los mismos valores por eso le indicamos que los cruce por ahí\n",
    "result = pd.merge(result,\n",
    "                 devices[['fabricante','Modelo']],\n",
    "                 left_on='dispositivo',\n",
    "                 right_on='Modelo',\n",
    "                 how='left')\n",
    "result.head()"
   ]
  },
  {
   "cell_type": "markdown",
   "id": "87ba44ee-8785-4c79-bc95-80681c9fe009",
   "metadata": {},
   "source": [
    "#### Calculando estadísticas sobre el resultado final\r\n",
    "\r\n",
    "Habiendo realizado los merges, se pueden calcular las estadisticas realizando un `groupby` sobre el manufacturador del dispositivo."
   ]
  },
  {
   "cell_type": "code",
   "execution_count": 83,
   "id": "3ca4b574-7f77-4790-a1b6-f92ca0aed584",
   "metadata": {},
   "outputs": [
    {
     "data": {
      "text/html": [
       "<div>\n",
       "<style scoped>\n",
       "    .dataframe tbody tr th:only-of-type {\n",
       "        vertical-align: middle;\n",
       "    }\n",
       "\n",
       "    .dataframe tbody tr th {\n",
       "        vertical-align: top;\n",
       "    }\n",
       "\n",
       "    .dataframe thead th {\n",
       "        text-align: right;\n",
       "    }\n",
       "</style>\n",
       "<table border=\"1\" class=\"dataframe\">\n",
       "  <thead>\n",
       "    <tr style=\"text-align: right;\">\n",
       "      <th></th>\n",
       "      <th>min_saliente_mes</th>\n",
       "      <th>sms_saliente_mes</th>\n",
       "      <th>data_mb_mes</th>\n",
       "      <th>id_uso</th>\n",
       "    </tr>\n",
       "    <tr>\n",
       "      <th>fabricante</th>\n",
       "      <th></th>\n",
       "      <th></th>\n",
       "      <th></th>\n",
       "      <th></th>\n",
       "    </tr>\n",
       "  </thead>\n",
       "  <tbody>\n",
       "    <tr>\n",
       "      <th>HTC</th>\n",
       "      <td>299.842955</td>\n",
       "      <td>93.059318</td>\n",
       "      <td>5144.077955</td>\n",
       "      <td>47</td>\n",
       "    </tr>\n",
       "    <tr>\n",
       "      <th>Huawei</th>\n",
       "      <td>81.526667</td>\n",
       "      <td>9.500000</td>\n",
       "      <td>1561.226667</td>\n",
       "      <td>6</td>\n",
       "    </tr>\n",
       "    <tr>\n",
       "      <th>LGE</th>\n",
       "      <td>111.530000</td>\n",
       "      <td>12.760000</td>\n",
       "      <td>1557.330000</td>\n",
       "      <td>3</td>\n",
       "    </tr>\n",
       "    <tr>\n",
       "      <th>Lava</th>\n",
       "      <td>60.650000</td>\n",
       "      <td>261.900000</td>\n",
       "      <td>12458.670000</td>\n",
       "      <td>2</td>\n",
       "    </tr>\n",
       "    <tr>\n",
       "      <th>Lenovo</th>\n",
       "      <td>215.920000</td>\n",
       "      <td>12.930000</td>\n",
       "      <td>1557.330000</td>\n",
       "      <td>2</td>\n",
       "    </tr>\n",
       "    <tr>\n",
       "      <th>Motorola</th>\n",
       "      <td>95.127500</td>\n",
       "      <td>65.666250</td>\n",
       "      <td>3946.500000</td>\n",
       "      <td>16</td>\n",
       "    </tr>\n",
       "    <tr>\n",
       "      <th>OnePlus</th>\n",
       "      <td>354.855000</td>\n",
       "      <td>48.330000</td>\n",
       "      <td>6575.410000</td>\n",
       "      <td>12</td>\n",
       "    </tr>\n",
       "    <tr>\n",
       "      <th>Samsung</th>\n",
       "      <td>191.010093</td>\n",
       "      <td>92.390463</td>\n",
       "      <td>4017.318889</td>\n",
       "      <td>126</td>\n",
       "    </tr>\n",
       "    <tr>\n",
       "      <th>Sony</th>\n",
       "      <td>177.315625</td>\n",
       "      <td>40.176250</td>\n",
       "      <td>3212.000625</td>\n",
       "      <td>16</td>\n",
       "    </tr>\n",
       "    <tr>\n",
       "      <th>Vodafone</th>\n",
       "      <td>42.750000</td>\n",
       "      <td>46.830000</td>\n",
       "      <td>5191.120000</td>\n",
       "      <td>1</td>\n",
       "    </tr>\n",
       "    <tr>\n",
       "      <th>ZTE</th>\n",
       "      <td>42.750000</td>\n",
       "      <td>46.830000</td>\n",
       "      <td>5191.120000</td>\n",
       "      <td>1</td>\n",
       "    </tr>\n",
       "  </tbody>\n",
       "</table>\n",
       "</div>"
      ],
      "text/plain": [
       "            min_saliente_mes  sms_saliente_mes   data_mb_mes  id_uso\n",
       "fabricante                                                          \n",
       "HTC               299.842955         93.059318   5144.077955      47\n",
       "Huawei             81.526667          9.500000   1561.226667       6\n",
       "LGE               111.530000         12.760000   1557.330000       3\n",
       "Lava               60.650000        261.900000  12458.670000       2\n",
       "Lenovo            215.920000         12.930000   1557.330000       2\n",
       "Motorola           95.127500         65.666250   3946.500000      16\n",
       "OnePlus           354.855000         48.330000   6575.410000      12\n",
       "Samsung           191.010093         92.390463   4017.318889     126\n",
       "Sony              177.315625         40.176250   3212.000625      16\n",
       "Vodafone           42.750000         46.830000   5191.120000       1\n",
       "ZTE                42.750000         46.830000   5191.120000       1"
      ]
     },
     "execution_count": 83,
     "metadata": {},
     "output_type": "execute_result"
    }
   ],
   "source": [
    "# Sobre este resultado final podemos hacer algunos cálculos. \n",
    "result.groupby(\"fabricante\").agg({\n",
    "    \"min_saliente_mes\":\"mean\",\n",
    "    \"sms_saliente_mes\":\"mean\",\n",
    "    \"data_mb_mes\":\"mean\",\n",
    "    \"id_uso\":\"count\"\n",
    "})"
   ]
  }
 ],
 "metadata": {
  "kernelspec": {
   "display_name": "Python 3 (ipykernel)",
   "language": "python",
   "name": "python3"
  },
  "language_info": {
   "codemirror_mode": {
    "name": "ipython",
    "version": 3
   },
   "file_extension": ".py",
   "mimetype": "text/x-python",
   "name": "python",
   "nbconvert_exporter": "python",
   "pygments_lexer": "ipython3",
   "version": "3.11.7"
  }
 },
 "nbformat": 4,
 "nbformat_minor": 5
}
